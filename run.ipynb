{
 "cells": [
  {
   "cell_type": "code",
   "execution_count": 7,
   "metadata": {},
   "outputs": [],
   "source": [
    "import torch\n",
    "from helpers import loadTestTweets, normalizeTweets, tokenizeTweets, loadModel, infer, ensembleVote, saveSubmission"
   ]
  },
  {
   "cell_type": "code",
   "execution_count": 3,
   "metadata": {},
   "outputs": [],
   "source": [
    "mode = 'eval'"
   ]
  },
  {
   "cell_type": "markdown",
   "metadata": {},
   "source": [
    "# Load Model"
   ]
  },
  {
   "cell_type": "code",
   "execution_count": 4,
   "metadata": {},
   "outputs": [],
   "source": [
    "checkpoint = 'vinai/bertweet-base'\n",
    "device = torch.device(\"cuda\" if torch.cuda.is_available() else \"cpu\")\n",
    "\n",
    "# Path of weights of 3 Best models\n",
    "weights_1_file_path = 'weights/best_model_weights_1.pt'\n",
    "weights_2_file_path = 'weights/best_model_weights_2.pt'\n",
    "weights_3_file_path = 'weights/best_model_weights_3.pt'\n",
    "\n",
    "model_classfier_1, model_classfier_2, model_classfier_3 = loadModel(checkpoint,device,\\\n",
    "                                                                    weights_1_file_path,weights_2_file_path,\\\n",
    "                                                                        weights_3_file_path)"
   ]
  },
  {
   "cell_type": "markdown",
   "metadata": {},
   "source": [
    "# Load and preprocess Tweets"
   ]
  },
  {
   "cell_type": "code",
   "execution_count": 10,
   "metadata": {},
   "outputs": [],
   "source": [
    "test_file_path = 'data/test_data.txt'\n",
    "\n",
    "# Load Tweets\n",
    "df_test = loadTestTweets(test_file_path)\n",
    "\n",
    "# Normalize Tweets\n",
    "df_test = normalizeTweets(df_test)\n",
    "\n",
    "# Tokenize Tweets\n",
    "test_dataloader = tokenizeTweets(checkpoint,df_test,mode)"
   ]
  },
  {
   "cell_type": "markdown",
   "metadata": {},
   "source": [
    "# Inference"
   ]
  },
  {
   "cell_type": "code",
   "execution_count": 9,
   "metadata": {},
   "outputs": [],
   "source": [
    "predictions_list_1, predictions_list_2, predictions_list_3 = infer(test_dataloader,model_classfier_1,model_classfier_2,model_classfier_3,device)"
   ]
  },
  {
   "cell_type": "markdown",
   "metadata": {},
   "source": [
    "# Ensemble voting"
   ]
  },
  {
   "cell_type": "code",
   "execution_count": 8,
   "metadata": {},
   "outputs": [],
   "source": [
    "predictions = ensembleVote(predictions_list_1, predictions_list_2, predictions_list_3)"
   ]
  },
  {
   "cell_type": "markdown",
   "metadata": {},
   "source": [
    "# Save submission"
   ]
  },
  {
   "cell_type": "code",
   "execution_count": 9,
   "metadata": {},
   "outputs": [],
   "source": [
    "saveSubmission(df_test, predictions)"
   ]
  }
 ],
 "metadata": {
  "kernelspec": {
   "display_name": "ml2",
   "language": "python",
   "name": "python3"
  },
  "language_info": {
   "codemirror_mode": {
    "name": "ipython",
    "version": 3
   },
   "file_extension": ".py",
   "mimetype": "text/x-python",
   "name": "python",
   "nbconvert_exporter": "python",
   "pygments_lexer": "ipython3",
   "version": "3.9.18"
  }
 },
 "nbformat": 4,
 "nbformat_minor": 2
}
