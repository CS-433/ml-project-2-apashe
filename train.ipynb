{
 "cells": [
  {
   "cell_type": "code",
   "execution_count": 2,
   "metadata": {},
   "outputs": [
    {
     "name": "stderr",
     "output_type": "stream",
     "text": [
      "c:\\Users\\andre\\Anaconda\\envs\\myenv_ml2\\lib\\site-packages\\tqdm\\auto.py:21: TqdmWarning: IProgress not found. Please update jupyter and ipywidgets. See https://ipywidgets.readthedocs.io/en/stable/user_install.html\n",
      "  from .autonotebook import tqdm as notebook_tqdm\n"
     ]
    }
   ],
   "source": [
    "import torch\n",
    "from helpers import ClassifierModel, loadTrainTweets, normalizeTweets, tokenizeTweets, train"
   ]
  },
  {
   "cell_type": "code",
   "execution_count": 1,
   "metadata": {},
   "outputs": [],
   "source": [
    "mode = 'train'"
   ]
  },
  {
   "cell_type": "markdown",
   "metadata": {},
   "source": [
    "# Load BERTweet architecture"
   ]
  },
  {
   "cell_type": "code",
   "execution_count": 3,
   "metadata": {},
   "outputs": [],
   "source": [
    "checkpoint = 'vinai/bertweet-base'\n",
    "device = torch.device(\"cuda\" if torch.cuda.is_available() else \"cpu\")\n",
    "model_classfier = ClassifierModel(checkpoint = checkpoint, num_labels =2).to(device)"
   ]
  },
  {
   "cell_type": "markdown",
   "metadata": {},
   "source": [
    "# Load and preprocess Tweets"
   ]
  },
  {
   "cell_type": "code",
   "execution_count": 4,
   "metadata": {},
   "outputs": [
    {
     "name": "stderr",
     "output_type": "stream",
     "text": [
      "100%|██████████| 200002/200002 [00:51<00:00, 3876.52it/s]\n",
      "Map: 100%|██████████| 200/200 [00:00<00:00, 1723.41 examples/s]\n",
      "Map: 100%|██████████| 99901/99901 [00:29<00:00, 3438.13 examples/s]\n",
      "Map: 100%|██████████| 99901/99901 [00:21<00:00, 4555.15 examples/s]\n"
     ]
    }
   ],
   "source": [
    "positive_file_path = 'data/train_pos_full.txt'\n",
    "negative_file_path = 'data/train_neg_full.txt'\n",
    "\n",
    "# Load Tweets\n",
    "df = loadTrainTweets(positive_file_path, negative_file_path)\n",
    "\n",
    "# Normalize Tweets\n",
    "df = normalizeTweets(df)\n",
    "\n",
    "# Best seeds\n",
    "seeds = [4,99,1]\n",
    "\n",
    "# Tokenize Tweets\n",
    "train_dataloader1, eval_dataloader1, test_dataloader1 = tokenizeTweets(checkpoint,df,mode,seeds[0])\n",
    "train_dataloader2, eval_dataloader2, test_dataloader2 = tokenizeTweets(checkpoint,df,mode,seeds[1])\n",
    "train_dataloader3, eval_dataloader3, test_dataloader3 = tokenizeTweets(checkpoint,df,mode,seeds[2])"
   ]
  },
  {
   "cell_type": "markdown",
   "metadata": {},
   "source": [
    "# Train"
   ]
  },
  {
   "cell_type": "markdown",
   "metadata": {},
   "source": [
    "## Train with first seed"
   ]
  },
  {
   "cell_type": "code",
   "execution_count": 3,
   "metadata": {},
   "outputs": [],
   "source": [
    "model_classfier = ClassifierModel(checkpoint = checkpoint, num_labels =2).to(device)\n",
    "best_weights1 = train(model_classfier,train_dataloader1,eval_dataloader1,device)"
   ]
  },
  {
   "cell_type": "markdown",
   "metadata": {},
   "source": [
    "## Train with second seed"
   ]
  },
  {
   "cell_type": "code",
   "execution_count": 2,
   "metadata": {},
   "outputs": [],
   "source": [
    "model_classfier = ClassifierModel(checkpoint = checkpoint, num_labels =2).to(device)\n",
    "best_weights2 = train(model_classfier,train_dataloader2,eval_dataloader2,device)"
   ]
  },
  {
   "cell_type": "markdown",
   "metadata": {},
   "source": [
    "## Train with third seed"
   ]
  },
  {
   "cell_type": "code",
   "execution_count": 1,
   "metadata": {},
   "outputs": [],
   "source": [
    "model_classfier = ClassifierModel(checkpoint = checkpoint, num_labels =2).to(device)\n",
    "best_weights3 = train(model_classfier,train_dataloader3,eval_dataloader3,device)"
   ]
  },
  {
   "cell_type": "markdown",
   "metadata": {},
   "source": [
    "# Save Best Weights"
   ]
  },
  {
   "cell_type": "code",
   "execution_count": null,
   "metadata": {},
   "outputs": [],
   "source": [
    "torch.save(best_weights1, 'weights/best_model_weights1_new.pt')\n",
    "torch.save(best_weights2, 'weights/best_model_weights2_new.pt')\n",
    "torch.save(best_weights3, 'weights/best_model_weights3_new.pt')"
   ]
  }
 ],
 "metadata": {
  "kernelspec": {
   "display_name": "myenv_ml2",
   "language": "python",
   "name": "python3"
  },
  "language_info": {
   "codemirror_mode": {
    "name": "ipython",
    "version": 3
   },
   "file_extension": ".py",
   "mimetype": "text/x-python",
   "name": "python",
   "nbconvert_exporter": "python",
   "pygments_lexer": "ipython3",
   "version": "3.9.18"
  }
 },
 "nbformat": 4,
 "nbformat_minor": 2
}
