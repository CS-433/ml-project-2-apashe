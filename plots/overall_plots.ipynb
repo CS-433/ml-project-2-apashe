{
 "cells": [
  {
   "cell_type": "code",
   "execution_count": 2,
   "metadata": {},
   "outputs": [
    {
     "name": "stderr",
     "output_type": "stream",
     "text": [
      "c:\\Users\\andre\\Anaconda\\envs\\myenv_ml2\\lib\\site-packages\\tqdm\\auto.py:21: TqdmWarning: IProgress not found. Please update jupyter and ipywidgets. See https://ipywidgets.readthedocs.io/en/stable/user_install.html\n",
      "  from .autonotebook import tqdm as notebook_tqdm\n"
     ]
    }
   ],
   "source": [
    "import os\n",
    "import sys\n",
    "import time\n",
    "\n",
    "import matplotlib.pyplot as plt\n",
    "import numpy as np\n",
    "import pandas as pd\n",
    "import torch\n",
    "import torch.nn as nn\n",
    "from torch.utils.data import DataLoader\n",
    "from tqdm import tqdm\n",
    "from sklearn.decomposition import PCA\n",
    "from sklearn.exceptions import ConvergenceWarning\n",
    "from sklearn.feature_extraction.text import CountVectorizer, TfidfTransformer, TfidfVectorizer\n",
    "from sklearn.linear_model import LogisticRegression\n",
    "from sklearn.model_selection import KFold, cross_val_score\n",
    "from transformers import AdamW, AutoConfig, AutoModel, AutoModelForSequenceClassification, AutoTokenizer, DataCollatorWithPadding\n",
    "from datasets import Dataset, DatasetDict, load_dataset, load_metric\n",
    "import evaluate\n",
    "import plotly.express as px\n",
    "\n",
    "current_path = os.getcwd()\n",
    "parent_path = os.path.dirname(current_path)\n",
    "sys.path.append(parent_path)\n",
    "\n",
    "from helpers import ClassifierModel, loadModel, loadTrainTweets, normalizeTweets, tokenizeTweets"
   ]
  },
  {
   "cell_type": "markdown",
   "metadata": {},
   "source": [
    "# Load Tweets"
   ]
  },
  {
   "cell_type": "code",
   "execution_count": 3,
   "metadata": {},
   "outputs": [],
   "source": [
    "positive_file_path = os.path.join(parent_path,'data/train_pos_full.txt')\n",
    "negative_file_path = os.path.join(parent_path,'data/train_neg_full.txt')\n",
    "positive_file_path_small = os.path.join(parent_path,'data/train_pos.txt')\n",
    "negative_file_path_small = os.path.join(parent_path,'data/train_neg.txt')\n",
    "\n",
    "# Load  (Full and Small datasets)\n",
    "df = loadTrainTweets(positive_file_path, negative_file_path)\n",
    "df_small = loadTrainTweets(positive_file_path_small, negative_file_path_small)"
   ]
  },
  {
   "cell_type": "markdown",
   "metadata": {},
   "source": [
    "## Model Comparison with Cross-Validation"
   ]
  },
  {
   "cell_type": "markdown",
   "metadata": {},
   "source": [
    "### GloVe Cross-Validation"
   ]
  },
  {
   "cell_type": "code",
   "execution_count": null,
   "metadata": {},
   "outputs": [],
   "source": []
  },
  {
   "cell_type": "markdown",
   "metadata": {},
   "source": [
    "### TF-IDF Cross-Validation"
   ]
  },
  {
   "cell_type": "code",
   "execution_count": null,
   "metadata": {},
   "outputs": [],
   "source": [
    "# Best Hyperparameters\n",
    "lambda_best = 0.1\n",
    "range_best = (1, 2)\n",
    "max_dfOpt = 0.5\n",
    "min_dfOpt = 1\n",
    "\n",
    "text_transformer = TfidfVectorizer(stop_words='english', ngram_range=range_best, \n",
    "                                   lowercase=True, max_df=max_dfOpt, min_df=min_dfOpt)\n",
    "\n",
    "X_train_text = text_transformer.fit_transform(df['tweets'])\n",
    "\n",
    "logit = LogisticRegression(C=1/lambda_best, solver='lbfgs')#, multi_cl', random_state=17, n_jobs=4)\n",
    "\n",
    "# skf = StratifiedKFold(n_splits=5, shuffle=True, random_state=17)\n",
    "kf = KFold(n_splits=5, shuffle=True, random_state=17)\n",
    "\n",
    "\n",
    "with warnings.catch_warnings():\n",
    "    warnings.filterwarnings(\"ignore\", category=ConvergenceWarning)\n",
    "    cross_val_tfidf = cross_val_score(logit, X_train_text, df['labels'], cv=kf, scoring='accuracy')\n",
    "    "
   ]
  },
  {
   "cell_type": "code",
   "execution_count": 6,
   "metadata": {},
   "outputs": [
    {
     "data": {
      "text/plain": [
       "array([0.82311035, 0.82367435, 0.817238  , 0.820824  , 0.820894  ])"
      ]
     },
     "execution_count": 6,
     "metadata": {},
     "output_type": "execute_result"
    }
   ],
   "source": [
    "cross_val_tfidf"
   ]
  },
  {
   "cell_type": "markdown",
   "metadata": {},
   "source": [
    "### BERT base Cross-Validation"
   ]
  },
  {
   "cell_type": "code",
   "execution_count": null,
   "metadata": {},
   "outputs": [],
   "source": [
    "# Normalize Tweets\n",
    "df_normalized = normalizeTweets(df)\n",
    "\n",
    "checkpoint = \"bert-base-uncased\"\n",
    "dataset = Dataset.from_pandas(df_normalized)\n",
    "tokenizer = AutoTokenizer.from_pretrained(checkpoint)\n",
    "tokenizer.model_max_len=512\n",
    "def tokenize(batch):\n",
    "  return tokenizer(batch[\"tweets\"], truncation=True, max_length=512)\n",
    "data_collator = DataCollatorWithPadding(tokenizer=tokenizer)\n",
    "device = torch.device(\"cuda\" if torch.cuda.is_available() else \"cpu\")\n",
    "\n",
    "\n",
    "# Set up 5-fold cross-validation\n",
    "kf = KFold(n_splits=5, shuffle=True, random_state=42)\n",
    "split_indices = list(kf.split(dataset))\n",
    "\n",
    "cross_val_BERT = []\n",
    "\n",
    "for fold, (train_idx, eval_idx) in enumerate(split_indices):\n",
    "    print(f\"Training Fold {fold + 1}\")\n",
    "    Acc_max = 0\n",
    "\n",
    "    # Create train and eval datasets for this fold\n",
    "    train_dataset = dataset.select(train_idx)\n",
    "    eval_dataset = dataset.select(eval_idx)\n",
    "\n",
    "    # Tokenize datasets\n",
    "    tokenized_train_dataset = train_dataset.map(tokenize, batched=True)\n",
    "    tokenized_eval_dataset = eval_dataset.map(tokenize, batched=True)\n",
    "\n",
    "    tokenized_train_dataset.set_format('torch', columns=[\"input_ids\", \"labels\"])\n",
    "    tokenized_eval_dataset.set_format('torch', columns=[\"input_ids\", \"labels\"])\n",
    "\n",
    "    # Create DataLoader for each fold\n",
    "    train_dataloader = DataLoader(tokenized_train_dataset, shuffle=True, batch_size=32, collate_fn=data_collator)\n",
    "    eval_dataloader = DataLoader(tokenized_eval_dataset, shuffle=False, batch_size=32, collate_fn=data_collator)\n",
    "\n",
    "    # Create a new model for each fold\n",
    "    model = ClassifierModel(checkpoint=checkpoint, num_labels=2).to(device)\n",
    "\n",
    "\n",
    "    optimizer = AdamW(model.parameters(), lr=1e-6)\n",
    "    num_epochs = 10\n",
    "    num_training_steps = num_epochs * len(train_dataloader)\n",
    "\n",
    "\n",
    "    metric = load_metric(\"accuracy\")\n",
    "    save_weights_every = 5000\n",
    "\n",
    "\n",
    "    for epoch in range(num_epochs):\n",
    "        \n",
    "        model.train()\n",
    "\n",
    "        for batch_idx, batch in enumerate(train_dataloader):\n",
    "\n",
    "            batch = {k: v.to(device) for k, v in batch.items()}\n",
    "            _, pure_loss = model(**batch)\n",
    "            pure_loss.backward()\n",
    "            optimizer.step()\n",
    "            optimizer.zero_grad()\n",
    "\n",
    "        print('Evaluation Start',flush=True)\n",
    "        model.eval()\n",
    "        for batch in eval_dataloader:\n",
    "            \n",
    "            batch = {k: v.to(device) for k, v in batch.items()}\n",
    "            with torch.no_grad():\n",
    "                outputs, pure_loss = model(**batch)\n",
    "\n",
    "            logits = outputs.logits\n",
    "            predictions = torch.argmax(logits, dim=-1)\n",
    "            \n",
    "            metric.add_batch(predictions=predictions, references=batch['labels'])\n",
    "        \n",
    "        accuracy = metric.compute()['accuracy']\n",
    "        if accuracy>Acc_max:\n",
    "            Acc_max=accuracy\n",
    "        print(f\"Fold {fold + 1}, Epoch {epoch + 1}, Accuracy: {accuracy}\",flush=True)\n",
    "\n",
    "    cross_val_BERT.append(Acc_max)\n",
    "\n",
    "# Print average accuracy across all folds\n",
    "print(\"cross_val_BERT\",cross_val_BERT)\n"
   ]
  },
  {
   "cell_type": "markdown",
   "metadata": {},
   "source": [
    "### BERTweet Cross-Validation"
   ]
  },
  {
   "cell_type": "code",
   "execution_count": null,
   "metadata": {},
   "outputs": [],
   "source": [
    "# Normalize Tweets\n",
    "df_normalized = normalizeTweets(df)\n",
    "\n",
    "checkpoint = \"vinai/bertweet-base\"\n",
    "dataset = Dataset.from_pandas(df_normalized)\n",
    "tokenizer = AutoTokenizer.from_pretrained(checkpoint)\n",
    "tokenizer.model_max_len=128\n",
    "def tokenize(batch):\n",
    "  return tokenizer(batch[\"tweets\"], truncation=True, max_length=128)\n",
    "data_collator = DataCollatorWithPadding(tokenizer=tokenizer)\n",
    "device = torch.device(\"cuda\" if torch.cuda.is_available() else \"cpu\")\n",
    "\n",
    "\n",
    "# Set up 5-fold cross-validation\n",
    "kf = KFold(n_splits=5, shuffle=True, random_state=42)\n",
    "split_indices = list(kf.split(dataset))\n",
    "\n",
    "cross_val_BERTweet = []\n",
    "\n",
    "for fold, (train_idx, eval_idx) in enumerate(split_indices):\n",
    "    print(f\"Training Fold {fold + 1}\")\n",
    "    Acc_max = 0\n",
    "\n",
    "    # Create train and eval datasets for this fold\n",
    "    train_dataset = dataset.select(train_idx)\n",
    "    eval_dataset = dataset.select(eval_idx)\n",
    "\n",
    "    # Tokenize datasets\n",
    "    tokenized_train_dataset = train_dataset.map(tokenize, batched=True)\n",
    "    tokenized_eval_dataset = eval_dataset.map(tokenize, batched=True)\n",
    "\n",
    "    tokenized_train_dataset.set_format('torch', columns=[\"input_ids\", \"labels\"])\n",
    "    tokenized_eval_dataset.set_format('torch', columns=[\"input_ids\", \"labels\"])\n",
    "\n",
    "    # Create DataLoader for each fold\n",
    "    train_dataloader = DataLoader(tokenized_train_dataset, shuffle=True, batch_size=32, collate_fn=data_collator)\n",
    "    eval_dataloader = DataLoader(tokenized_eval_dataset, shuffle=False, batch_size=32, collate_fn=data_collator)\n",
    "\n",
    "    # Create a new model for each fold\n",
    "    model = ClassifierModel(checkpoint=checkpoint, num_labels=2).to(device)\n",
    "\n",
    "\n",
    "    optimizer = AdamW(model.parameters(), lr=1e-6)\n",
    "    num_epochs = 10\n",
    "    num_training_steps = num_epochs * len(train_dataloader)\n",
    "\n",
    "    metric = load_metric(\"accuracy\")\n",
    "    save_weights_every = 5000\n",
    "\n",
    "\n",
    "    for epoch in range(num_epochs):\n",
    "        \n",
    "        model.train()\n",
    "\n",
    "        for batch_idx, batch in enumerate(train_dataloader):\n",
    "\n",
    "            batch = {k: v.to(device) for k, v in batch.items()}\n",
    "            _, pure_loss = model(**batch)\n",
    "            pure_loss.backward()\n",
    "            optimizer.step()\n",
    "            optimizer.zero_grad()\n",
    "\n",
    "        print('Evaluation Start',flush=True)\n",
    "        model.eval()\n",
    "        for batch in eval_dataloader:\n",
    "            \n",
    "            batch = {k: v.to(device) for k, v in batch.items()}\n",
    "            with torch.no_grad():\n",
    "                outputs, pure_loss = model(**batch)\n",
    "\n",
    "            logits = outputs.logits\n",
    "            predictions = torch.argmax(logits, dim=-1)\n",
    "            \n",
    "            metric.add_batch(predictions=predictions, references=batch['labels'])\n",
    "        \n",
    "        accuracy = metric.compute()['accuracy']\n",
    "        if accuracy>Acc_max:\n",
    "            Acc_max=accuracy\n",
    "        print(f\"Fold {fold + 1}, Epoch {epoch + 1}, Accuracy: {accuracy}\",flush=True)\n",
    "\n",
    "    cross_val_BERTweet.append(Acc_max)\n",
    "\n",
    "# Print average accuracy across all folds\n",
    "print(\"cross_val_BERTweet\",cross_val_BERTweet)\n"
   ]
  },
  {
   "cell_type": "markdown",
   "metadata": {},
   "source": [
    "### Plotting"
   ]
  },
  {
   "cell_type": "markdown",
   "metadata": {},
   "source": [
    "After performing the cross-validation on the different methods, which is very time consuming, we save them an plot them below"
   ]
  },
  {
   "cell_type": "code",
   "execution_count": 8,
   "metadata": {},
   "outputs": [
    {
     "data": {
      "image/png": "[encoded data removed]",
      "text/plain": [
       "<Figure size 650x500 with 1 Axes>"
      ]
     },
     "metadata": {},
     "output_type": "display_data"
    }
   ],
   "source": [
    "# Create a box plot of the F1 scores\n",
    "plt.figure(figsize=(6.5, 5))  # Increased the figure width\n",
    "\n",
    "# Glove\n",
    "accuracy_1 = np.array([0.7914127347434023, 0.788158729283291, 0.787579626616661, 0.787408306215873, 0.790855440957476])\n",
    "\n",
    "\n",
    "# TF-IDF  \n",
    "accuracy_2 = np.array([0.82145036, 0.82273435, 0.824584  , 0.82013   , 0.821274  ]),\n",
    "# accuracy_2 = cross_val_tfidf\n",
    "\n",
    "# BERT\n",
    "accuracy_3 = np.array([0.9003021993956012,0.9008981982036036,0.9001878723956094,0.900259481756868414,0.9012981982029078])\n",
    "# accuracy_3 = cross_val_BERT\n",
    "\n",
    "# BERTweet\n",
    "accuracy_4 = np.array([0.9177121645756708,0.9180821638356723,0.9165716385147567,0.917471694747534,0.9179871947656482])\n",
    "# accuracy_4 = cross_val_BERTweet\n",
    "\n",
    "\n",
    "\n",
    "# Create boxplots for each step\n",
    "box1 = plt.boxplot(accuracy_1, positions=[1], notch=False, patch_artist=True, widths=0.4, whis=2)  # Set whis to 2\n",
    "box2 = plt.boxplot(accuracy_2, positions=[2], notch=False, patch_artist=True, widths=0.4, whis=2)\n",
    "box3 = plt.boxplot(accuracy_3, positions=[3], notch=False, patch_artist=True, widths=0.4, whis=2)\n",
    "box4 = plt.boxplot(accuracy_4, positions=[4], notch=False, patch_artist=True, widths=0.4, whis=2)\n",
    "\n",
    "# Set colors for the boxes\n",
    "# colors = ['lightblue', 'lightgreen', 'lightcoral', 'lightyellow']\n",
    "colors = ['lightblue', 'lightgreen', 'lightcoral', 'lightyellow']\n",
    "\n",
    "# Set colors for the boxes\n",
    "# colors = ['mediumseagreen', 'lightcoral', 'cornflowerblue', 'palegoldenrod', 'thistle']\n",
    "\n",
    "for box, color in zip([box1, box2, box3, box4], colors):\n",
    "    for patch in box['boxes']:\n",
    "        patch.set_facecolor(color)\n",
    "\n",
    "tit = plt.title('Models Comparison with Cross-Validation')\n",
    "# tit.set_position((0.1,0))\n",
    "plt.xlabel('Model')\n",
    "plt.ylabel('Accuracy')\n",
    "\n",
    "# Calculate and add the mean values to the box plots\n",
    "mean_values = [np.mean(accuracy_1), np.mean(accuracy_2), np.mean(accuracy_3), np.mean(accuracy_4)]\n",
    "std_values = [np.std(accuracy_1), np.std(accuracy_2), np.std(accuracy_3), np.std(accuracy_4)]\n",
    "\n",
    "\n",
    "for i, (mean, std) in enumerate(zip(mean_values, std_values)):\n",
    "    if i == 0:\n",
    "        plt.text(i + 1, mean + 0.015, f\"{mean:.3f} ± {2*std:.3f}\", ha='center', va='bottom', fontsize=11)\n",
    "    elif i == 1:\n",
    "        plt.text(i + 1, mean + 0.015, f\"{mean:.3f} ± {2*std:.3f}\", ha='center', va='top', fontsize=11)\n",
    "    elif i == 2:\n",
    "        plt.text(i + 1, mean - 0.015, f\"{mean:.3f} ± {2*std:.3f}\", ha='center', va='bottom', fontsize=11)\n",
    "    elif i == 3:\n",
    "        plt.text(i + 1, mean - 0.015, f\"{mean:.3f} ± {2*std:.3f}\", ha='center', va='top', fontsize=11)\n",
    "    elif i == 4:\n",
    "        plt.text(i + 1, mean - 0.015, f\"{mean:.3f} ± {2*std:.3f}\", ha='center', va='bottom', fontsize=11)\n",
    "\n",
    "\n",
    "# Create a custom legend\n",
    "legend_boxes = [box1[\"boxes\"][0], box2[\"boxes\"][0], box3[\"boxes\"][0], box4[\"boxes\"][0]]\n",
    "legend = plt.legend(legend_boxes, ['A: GloVe + logistic \\nrergression (λ=100)', 'B: TF-IDF + logistic \\nrergression (λ=0.1)', 'C: BERT base', 'D: BERTweet','E: Ensembling with \\nBERTweet'])\n",
    "legend.get_texts()[0].set_fontsize(14)\n",
    "legend.get_texts()[1].set_fontsize(14)\n",
    "legend.get_texts()[2].set_fontsize(14)\n",
    "legend.get_texts()[3].set_fontsize(14)\n",
    "\n",
    "\n",
    "# Set the x-axis ticks and labels\n",
    "plt.xticks([1, 2, 3, 4], ['A', 'B', 'C', 'D'])\n",
    "\n",
    "plt.show()"
   ]
  },
  {
   "cell_type": "code",
   "execution_count": null,
   "metadata": {},
   "outputs": [],
   "source": []
  }
 ],
 "metadata": {
  "kernelspec": {
   "display_name": "base",
   "language": "python",
   "name": "python3"
  },
  "language_info": {
   "codemirror_mode": {
    "name": "ipython",
    "version": 3
   },
   "file_extension": ".py",
   "mimetype": "text/x-python",
   "name": "python",
   "nbconvert_exporter": "python",
   "pygments_lexer": "ipython3",
   "version": "3.9.18"
  }
 },
 "nbformat": 4,
 "nbformat_minor": 2
}
