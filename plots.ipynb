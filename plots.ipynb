{
 "cells": [
  {
   "cell_type": "code",
   "execution_count": 1,
   "metadata": {},
   "outputs": [
    {
     "name": "stderr",
     "output_type": "stream",
     "text": [
      "c:\\Users\\andre\\Anaconda\\envs\\myenv_ml2\\lib\\site-packages\\tqdm\\auto.py:21: TqdmWarning: IProgress not found. Please update jupyter and ipywidgets. See https://ipywidgets.readthedocs.io/en/stable/user_install.html\n",
      "  from .autonotebook import tqdm as notebook_tqdm\n"
     ]
    }
   ],
   "source": [
    "import matplotlib.pyplot as plt\n",
    "import numpy as np\n",
    "\n",
    "from sklearn.feature_extraction.text import TfidfTransformer, CountVectorizer, TfidfVectorizer\n",
    "from sklearn.linear_model import LogisticRegression\n",
    "from sklearn.model_selection import cross_val_score, StratifiedKFold, KFold\n",
    "import warnings\n",
    "from sklearn.exceptions import ConvergenceWarning\n",
    "\n",
    "from sklearn.model_selection import train_test_split\n",
    "\n",
    "from datasets import load_dataset,Dataset,DatasetDict#, load_metric\n",
    "import evaluate\n",
    "\n",
    "import plotly.express as px\n",
    "\n",
    "from transformers import DataCollatorWithPadding,AutoModelForSequenceClassification, Trainer, TrainingArguments, AutoTokenizer, AutoModel, AutoConfig\n",
    "\n",
    "\n",
    "import torch\n",
    "from sklearn.decomposition import PCA\n",
    "import matplotlib.pyplot as plt\n",
    "import numpy as np\n",
    "from helpers import ClassifierModel, loadTrainTweets, loadModel, normalizeTweets, tokenizeTweets"
   ]
  },
  {
   "cell_type": "code",
   "execution_count": 2,
   "metadata": {},
   "outputs": [],
   "source": [
    "\n",
    "import numpy as np\n",
    "from datasets import load_dataset,Dataset,DatasetDict\n",
    "\n",
    "from transformers import DataCollatorWithPadding,AutoModelForSequenceClassification, Trainer, TrainingArguments, AutoTokenizer, AutoModel, AutoConfig\n",
    "from transformers.modeling_outputs import TokenClassifierOutput, SequenceClassifierOutput\n",
    "from transformers import AdamW, get_scheduler\n",
    "\n",
    "from datasets import load_metric\n",
    "\n",
    "from tqdm.auto import tqdm\n",
    "\n",
    "\n",
    "import torch\n",
    "import torch.nn as nn\n",
    "import pandas as pd\n",
    "import time\n",
    "\n",
    "from tqdm import tqdm\n",
    "\n",
    "from torch.utils.data import  DataLoader\n",
    "\n",
    "from contextlib import contextmanager\n",
    "import sys\n",
    "\n",
    "from sklearn.model_selection import KFold\n",
    "import os"
   ]
  },
  {
   "cell_type": "markdown",
   "metadata": {},
   "source": [
    "# Load Tweets"
   ]
  },
  {
   "cell_type": "code",
   "execution_count": 40,
   "metadata": {},
   "outputs": [],
   "source": [
    "positive_file_path = 'data/train_pos_full.txt'\n",
    "negative_file_path = 'data/train_neg_full.txt'\n",
    "\n",
    "# Load Tweets\n",
    "df = loadTrainTweets(positive_file_path, negative_file_path)"
   ]
  },
  {
   "cell_type": "markdown",
   "metadata": {},
   "source": [
    "# Hyperparameter Search"
   ]
  },
  {
   "cell_type": "code",
   "execution_count": null,
   "metadata": {},
   "outputs": [],
   "source": []
  },
  {
   "cell_type": "markdown",
   "metadata": {},
   "source": [
    "# Model Comparison with Cross-Validation"
   ]
  },
  {
   "cell_type": "markdown",
   "metadata": {},
   "source": [
    "## GloVe Cross-Validation"
   ]
  },
  {
   "cell_type": "code",
   "execution_count": null,
   "metadata": {},
   "outputs": [],
   "source": []
  },
  {
   "cell_type": "markdown",
   "metadata": {},
   "source": [
    "## TF-IDF Cross-Validation"
   ]
  },
  {
   "cell_type": "code",
   "execution_count": 3,
   "metadata": {},
   "outputs": [],
   "source": [
    "# Best Hyperparameters\n",
    "lambda_best = 0.1\n",
    "range_best = (1, 2)\n",
    "max_dfOpt = 0.5\n",
    "min_dfOpt = 1\n",
    "\n",
    "text_transformer = TfidfVectorizer(stop_words='english', ngram_range=range_best, \n",
    "                                   lowercase=True, max_df=max_dfOpt, min_df=min_dfOpt)\n",
    "\n",
    "X_train_text = text_transformer.fit_transform(df['tweets'])\n",
    "\n",
    "logit = LogisticRegression(C=1/lambda_best, solver='lbfgs')#, multi_cl', random_state=17, n_jobs=4)\n",
    "\n",
    "# skf = StratifiedKFold(n_splits=5, shuffle=True, random_state=17)\n",
    "kf = KFold(n_splits=5, shuffle=True, random_state=17)\n",
    "\n",
    "\n",
    "with warnings.catch_warnings():\n",
    "    warnings.filterwarnings(\"ignore\", category=ConvergenceWarning)\n",
    "    cross_val_tfidf = cross_val_score(logit, X_train_text, df['labels'], cv=kf, scoring='accuracy')\n",
    "    "
   ]
  },
  {
   "cell_type": "code",
   "execution_count": 6,
   "metadata": {},
   "outputs": [
    {
     "data": {
      "text/plain": [
       "array([0.82311035, 0.82367435, 0.817238  , 0.820824  , 0.820894  ])"
      ]
     },
     "execution_count": 6,
     "metadata": {},
     "output_type": "execute_result"
    }
   ],
   "source": [
    "cross_val_tfidf"
   ]
  },
  {
   "cell_type": "markdown",
   "metadata": {},
   "source": [
    "## BERT base Cross-Validation"
   ]
  },
  {
   "cell_type": "code",
   "execution_count": null,
   "metadata": {},
   "outputs": [],
   "source": [
    "# Normalize Tweets\n",
    "df_normalized = normalizeTweets(df)\n",
    "\n",
    "checkpoint = \"bert-base-uncased\"\n",
    "dataset = Dataset.from_pandas(df_normalized)\n",
    "tokenizer = AutoTokenizer.from_pretrained(checkpoint)\n",
    "tokenizer.model_max_len=512\n",
    "def tokenize(batch):\n",
    "  return tokenizer(batch[\"tweets\"], truncation=True, max_length=512)\n",
    "data_collator = DataCollatorWithPadding(tokenizer=tokenizer)\n",
    "device = torch.device(\"cuda\" if torch.cuda.is_available() else \"cpu\")\n",
    "\n",
    "\n",
    "# Set up 5-fold cross-validation\n",
    "kf = KFold(n_splits=5, shuffle=True, random_state=42)\n",
    "split_indices = list(kf.split(dataset))\n",
    "\n",
    "cross_val_BERT = []\n",
    "\n",
    "for fold, (train_idx, eval_idx) in enumerate(split_indices):\n",
    "    print(f\"Training Fold {fold + 1}\")\n",
    "    Acc_max = 0\n",
    "\n",
    "    # Create train and eval datasets for this fold\n",
    "    train_dataset = dataset.select(train_idx)\n",
    "    eval_dataset = dataset.select(eval_idx)\n",
    "\n",
    "    # Tokenize datasets\n",
    "    tokenized_train_dataset = train_dataset.map(tokenize, batched=True)\n",
    "    tokenized_eval_dataset = eval_dataset.map(tokenize, batched=True)\n",
    "\n",
    "    tokenized_train_dataset.set_format('torch', columns=[\"input_ids\", \"labels\"])\n",
    "    tokenized_eval_dataset.set_format('torch', columns=[\"input_ids\", \"labels\"])\n",
    "\n",
    "    # Create DataLoader for each fold\n",
    "    train_dataloader = DataLoader(tokenized_train_dataset, shuffle=True, batch_size=32, collate_fn=data_collator)\n",
    "    eval_dataloader = DataLoader(tokenized_eval_dataset, shuffle=False, batch_size=32, collate_fn=data_collator)\n",
    "\n",
    "    # Create a new model for each fold\n",
    "    model = ClassifierModel(checkpoint=checkpoint, num_labels=2).to(device)\n",
    "\n",
    "\n",
    "    optimizer = AdamW(model.parameters(), lr=6e-6)\n",
    "    num_epochs = 10\n",
    "    num_training_steps = num_epochs * len(train_dataloader)\n",
    "\n",
    "    lr_scheduler = get_scheduler('linear', optimizer=optimizer, num_warmup_steps=0, num_training_steps=num_training_steps)\n",
    "\n",
    "    metric = load_metric(\"accuracy\")\n",
    "    save_weights_every = 5000\n",
    "\n",
    "\n",
    "    for epoch in range(num_epochs):\n",
    "        \n",
    "        model.train()\n",
    "\n",
    "        for batch_idx, batch in enumerate(train_dataloader):\n",
    "\n",
    "            batch = {k: v.to(device) for k, v in batch.items()}\n",
    "            _, pure_loss = model(**batch)\n",
    "            pure_loss.backward()\n",
    "            optimizer.step()\n",
    "            optimizer.zero_grad()\n",
    "\n",
    "        print('Evaluation Start',flush=True)\n",
    "        model.eval()\n",
    "        for batch in eval_dataloader:\n",
    "            \n",
    "            batch = {k: v.to(device) for k, v in batch.items()}\n",
    "            with torch.no_grad():\n",
    "                outputs, pure_loss = model(**batch)\n",
    "\n",
    "            logits = outputs.logits\n",
    "            predictions = torch.argmax(logits, dim=-1)\n",
    "            \n",
    "            metric.add_batch(predictions=predictions, references=batch['labels'])\n",
    "        \n",
    "        accuracy = metric.compute()['accuracy']\n",
    "        if accuracy>Acc_max:\n",
    "            Acc_max=accuracy\n",
    "        print(f\"Fold {fold + 1}, Epoch {epoch + 1}, Accuracy: {accuracy}\",flush=True)\n",
    "\n",
    "    cross_val_BERT.append(Acc_max)\n",
    "\n",
    "# Print average accuracy across all folds\n",
    "print(\"cross_val_BERT\",cross_val_BERT)\n"
   ]
  },
  {
   "cell_type": "markdown",
   "metadata": {},
   "source": [
    "## BERTweet Cross-Validation"
   ]
  },
  {
   "cell_type": "code",
   "execution_count": null,
   "metadata": {},
   "outputs": [],
   "source": [
    "# Normalize Tweets\n",
    "df_normalized = normalizeTweets(df)\n",
    "\n",
    "checkpoint = \"vinai/bertweet-base\"\n",
    "dataset = Dataset.from_pandas(df_normalized)\n",
    "tokenizer = AutoTokenizer.from_pretrained(checkpoint)\n",
    "tokenizer.model_max_len=128\n",
    "def tokenize(batch):\n",
    "  return tokenizer(batch[\"tweets\"], truncation=True, max_length=128)\n",
    "data_collator = DataCollatorWithPadding(tokenizer=tokenizer)\n",
    "device = torch.device(\"cuda\" if torch.cuda.is_available() else \"cpu\")\n",
    "\n",
    "\n",
    "# Set up 5-fold cross-validation\n",
    "kf = KFold(n_splits=5, shuffle=True, random_state=42)\n",
    "split_indices = list(kf.split(dataset))\n",
    "\n",
    "cross_val_BERTweet = []\n",
    "\n",
    "for fold, (train_idx, eval_idx) in enumerate(split_indices):\n",
    "    print(f\"Training Fold {fold + 1}\")\n",
    "    Acc_max = 0\n",
    "\n",
    "    # Create train and eval datasets for this fold\n",
    "    train_dataset = dataset.select(train_idx)\n",
    "    eval_dataset = dataset.select(eval_idx)\n",
    "\n",
    "    # Tokenize datasets\n",
    "    tokenized_train_dataset = train_dataset.map(tokenize, batched=True)\n",
    "    tokenized_eval_dataset = eval_dataset.map(tokenize, batched=True)\n",
    "\n",
    "    tokenized_train_dataset.set_format('torch', columns=[\"input_ids\", \"labels\"])\n",
    "    tokenized_eval_dataset.set_format('torch', columns=[\"input_ids\", \"labels\"])\n",
    "\n",
    "    # Create DataLoader for each fold\n",
    "    train_dataloader = DataLoader(tokenized_train_dataset, shuffle=True, batch_size=32, collate_fn=data_collator)\n",
    "    eval_dataloader = DataLoader(tokenized_eval_dataset, shuffle=False, batch_size=32, collate_fn=data_collator)\n",
    "\n",
    "    # Create a new model for each fold\n",
    "    model = ClassifierModel(checkpoint=checkpoint, num_labels=2).to(device)\n",
    "\n",
    "\n",
    "    optimizer = AdamW(model.parameters(), lr=6e-6)\n",
    "    num_epochs = 10\n",
    "    num_training_steps = num_epochs * len(train_dataloader)\n",
    "\n",
    "    lr_scheduler = get_scheduler('linear', optimizer=optimizer, num_warmup_steps=0, num_training_steps=num_training_steps)\n",
    "\n",
    "    metric = load_metric(\"accuracy\")\n",
    "    save_weights_every = 5000\n",
    "\n",
    "\n",
    "    for epoch in range(num_epochs):\n",
    "        \n",
    "        model.train()\n",
    "\n",
    "        for batch_idx, batch in enumerate(train_dataloader):\n",
    "\n",
    "            batch = {k: v.to(device) for k, v in batch.items()}\n",
    "            _, pure_loss = model(**batch)\n",
    "            pure_loss.backward()\n",
    "            optimizer.step()\n",
    "            optimizer.zero_grad()\n",
    "\n",
    "        print('Evaluation Start',flush=True)\n",
    "        model.eval()\n",
    "        for batch in eval_dataloader:\n",
    "            \n",
    "            batch = {k: v.to(device) for k, v in batch.items()}\n",
    "            with torch.no_grad():\n",
    "                outputs, pure_loss = model(**batch)\n",
    "\n",
    "            logits = outputs.logits\n",
    "            predictions = torch.argmax(logits, dim=-1)\n",
    "            \n",
    "            metric.add_batch(predictions=predictions, references=batch['labels'])\n",
    "        \n",
    "        accuracy = metric.compute()['accuracy']\n",
    "        if accuracy>Acc_max:\n",
    "            Acc_max=accuracy\n",
    "        print(f\"Fold {fold + 1}, Epoch {epoch + 1}, Accuracy: {accuracy}\",flush=True)\n",
    "\n",
    "    cross_val_BERTweet.append(Acc_max)\n",
    "\n",
    "# Print average accuracy across all folds\n",
    "print(\"cross_val_BERTweet\",cross_val_BERTweet)\n"
   ]
  },
  {
   "cell_type": "markdown",
   "metadata": {},
   "source": [
    "## Plotting"
   ]
  },
  {
   "cell_type": "code",
   "execution_count": 72,
   "metadata": {},
   "outputs": [
    {
     "data": {
      "image/png": "[encoded data removed]",
      "text/plain": [
       "<Figure size 650x500 with 1 Axes>"
      ]
     },
     "metadata": {},
     "output_type": "display_data"
    }
   ],
   "source": [
    "\"\"\"PLOTTING THE BOX PLOTS\"\"\"\n",
    "\n",
    "# Create a box plot of the F1 scores\n",
    "plt.figure(figsize=(6.5, 5))  # Increased the figure width\n",
    "\n",
    "# Glove  # TEMPORARY\n",
    "accuracy_1 = np.array([0.82145036, 0.82273435, 0.824584  , 0.82013   , 0.821274  ]),\n",
    "\n",
    "\n",
    "# TF-IDF  \n",
    "# accuracy_2 = np.array([0.82145036, 0.82273435, 0.824584  , 0.82013   , 0.821274  ]),\n",
    "accuracy_2 = cross_val_tfidf\n",
    "\n",
    "# BERT\n",
    "# accuracy_3 = np.array([0.82145036, 0.82273435, 0.824584  , 0.82013   , 0.821274  ]),\n",
    "accuracy_3 = cross_val_BERT\n",
    "\n",
    "# BERTweet\n",
    "# accuracy_4 = np.array([0.9190844444444445,0.9188088888888889,0.916232, 0.919104,0.919592])\n",
    "accuracy_4 = cross_val_BERTweet\n",
    "\n",
    "\n",
    "# Ensemble BERTweet\n",
    "accuracy_5 = np.array([0.921])\n",
    "\n",
    "\n",
    "# Create boxplots for each step\n",
    "box1 = plt.boxplot(accuracy_1, positions=[1], notch=False, patch_artist=True, widths=0.4, whis=2)  # Set whis to 2\n",
    "box2 = plt.boxplot(accuracy_2, positions=[2], notch=False, patch_artist=True, widths=0.4, whis=2)\n",
    "box3 = plt.boxplot(accuracy_3, positions=[3], notch=False, patch_artist=True, widths=0.4, whis=2)\n",
    "box4 = plt.boxplot(accuracy_4, positions=[4], notch=False, patch_artist=True, widths=0.4, whis=2)\n",
    "box5 = plt.boxplot(accuracy_5, positions=[5], notch=False, patch_artist=True, widths=0.4, whis=2)\n",
    "\n",
    "# Set colors for the boxes\n",
    "# colors = ['lightblue', 'lightgreen', 'lightcoral', 'lightyellow']\n",
    "colors = ['lightblue', 'lightgreen', 'lightcoral', 'lightyellow', 'lightpink']\n",
    "\n",
    "# Set colors for the boxes\n",
    "# colors = ['mediumseagreen', 'lightcoral', 'cornflowerblue', 'palegoldenrod', 'thistle']\n",
    "\n",
    "for box, color in zip([box1, box2, box3, box5], colors):\n",
    "    for patch in box['boxes']:\n",
    "        patch.set_facecolor(color)\n",
    "\n",
    "tit = plt.title('Models Comparison with Cross-Validation')\n",
    "# tit.set_position((0.1,0))\n",
    "plt.xlabel('Model')\n",
    "plt.ylabel('Accuracy')\n",
    "\n",
    "# Calculate and add the mean values to the box plots\n",
    "mean_values = [np.mean(accuracy_1), np.mean(accuracy_2), np.mean(accuracy_3), np.mean(accuracy_4), np.mean(accuracy_5)]\n",
    "std_values = [np.std(accuracy_1), np.std(accuracy_2), np.std(accuracy_3), np.std(accuracy_4), np.std(accuracy_5)]\n",
    "\n",
    "\n",
    "# for i, (mean, std) in enumerate(zip(mean_values, std_values)):\n",
    "#     if i == 0:\n",
    "#         plt.text(i + 1, mean + 0.015, f\"{mean:.3f} ± {2*std:.3f}\", ha='center', va='bottom', fontsize=9)\n",
    "#     elif i == 1:\n",
    "#         plt.text(i + 1, mean + 0.015, f\"{mean:.3f} ± {2*std:.3f}\", ha='center', va='top', fontsize=9)\n",
    "#     elif i == 2:\n",
    "#         plt.text(i + 1, mean + 0.015, f\"{mean:.3f} ± {2*std:.3f}\", ha='center', va='bottom', fontsize=9)\n",
    "#     elif i == 3:\n",
    "#         plt.text(i + 1, mean - 0.015, f\"{mean:.3f} ± {2*std:.3f}\", ha='center', va='top', fontsize=9)\n",
    "#     elif i == 4:\n",
    "#         plt.text(i + 1, mean - 0.015, f\"{mean:.3f} ± {2*std:.3f}\", ha='center', va='bottom', fontsize=9)\n",
    "\n",
    "\n",
    "# Create a custom legend\n",
    "legend_boxes = [box1[\"boxes\"][0], box2[\"boxes\"][0], box3[\"boxes\"][0], box4[\"boxes\"][0], box5[\"boxes\"][0]]\n",
    "legend = plt.legend(legend_boxes, ['A: GloVe + logistic \\nrergression (λ=0.1)', 'B: TF-IDF + logistic \\nrergression (λ=0.1)', 'C: BERT base', 'D: BERTweet','E: Ensembling with \\nBERTweet'])\n",
    "legend.get_texts()[0].set_fontsize(12)\n",
    "legend.get_texts()[1].set_fontsize(12)\n",
    "legend.get_texts()[2].set_fontsize(12)\n",
    "legend.get_texts()[3].set_fontsize(12)\n",
    "legend.get_texts()[4].set_fontsize(12)\n",
    "\n",
    "\n",
    "# Set the x-axis ticks and labels\n",
    "plt.xticks([1, 2, 3, 4, 5], ['A', 'B', 'C', 'D', 'E'])\n",
    "\n",
    "plt.show()"
   ]
  },
  {
   "cell_type": "markdown",
   "metadata": {},
   "source": [
    "# Attention Map"
   ]
  },
  {
   "cell_type": "markdown",
   "metadata": {},
   "source": [
    "## Load Model"
   ]
  },
  {
   "cell_type": "code",
   "execution_count": 3,
   "metadata": {},
   "outputs": [],
   "source": [
    "checkpoint = 'vinai/bertweet-base'\n",
    "device = torch.device(\"cuda\" if torch.cuda.is_available() else \"cpu\")\n",
    "\n",
    "# Path of weights of 3 Best models\n",
    "weights_1_file_path = 'weights/best_model_weights_1.pt'\n",
    "weights_2_file_path = 'weights/best_model_weights_2.pt'\n",
    "weights_3_file_path = 'weights/best_model_weights_3.pt'\n",
    "\n",
    "model_classfier_1, model_classfier_2, model_classfier_3 = loadModel(checkpoint,device,\\\n",
    "                                                                    weights_1_file_path,weights_2_file_path,\\\n",
    "                                                                        weights_3_file_path)"
   ]
  },
  {
   "cell_type": "markdown",
   "metadata": {},
   "source": [
    "# Plot Attention Map"
   ]
  },
  {
   "cell_type": "code",
   "execution_count": 37,
   "metadata": {},
   "outputs": [
    {
     "data": {
      "application/vnd.plotly.v1+json": {
       "config": {
        "plotlyServerURL": "https://plot.ly"
       },
       "data": [
        {
         "coloraxis": "coloraxis",
         "hovertemplate": "Key: %{x}<br>Query: %{y}<br>color: %{z}<extra></extra>",
         "name": "0",
         "type": "heatmap",
         "xaxis": "x",
         "yaxis": "y",
         "z": [
          [
           0.15000000596046448,
           0.009385153651237488,
           0.01026826910674572,
           0.008539664559066296,
           0.005709483753889799,
           0.0060427929274737835,
           0.006971001625061035,
           0.0062881894409656525,
           0.009483473375439644,
           0.006717309821397066,
           0.008499029092490673,
           0.0048023103736341,
           0.005324578378349543,
           0.010263117030262947,
           0.00844274740666151,
           0.009047429077327251,
           0.007772746030241251,
           0.008573376573622227,
           0.009221403859555721,
           0.04105936363339424
          ],
          [
           0.15000000596046448,
           0.044682323932647705,
           0.10423290729522705,
           0.04371676966547966,
           0.011724624782800674,
           0.01653318479657173,
           0.015503558330237865,
           0.014366548508405685,
           0.019276035949587822,
           0.015737829729914665,
           0.023687461391091347,
           0.012214786373078823,
           0.01084436196833849,
           0.015795590355992317,
           0.018728220835328102,
           0.014884802512824535,
           0.012985472567379475,
           0.01756669022142887,
           0.011660954914987087,
           0.03211156651377678
          ],
          [
           0.15000000596046448,
           0.07682549208402634,
           0.05385304614901543,
           0.04744057357311249,
           0.01410376001149416,
           0.021867798641324043,
           0.015264414250850677,
           0.014512785710394382,
           0.016605304554104805,
           0.014064698480069637,
           0.020329371094703674,
           0.008732314221560955,
           0.008803761564195156,
           0.014617379754781723,
           0.018014514818787575,
           0.012474912218749523,
           0.010991687886416912,
           0.01792680285871029,
           0.01083972305059433,
           0.028894009068608284
          ],
          [
           0.15000000596046448,
           0.03872661665081978,
           0.04837004840373993,
           0.05013745650649071,
           0.04444652795791626,
           0.03236538916826248,
           0.02082871086895466,
           0.011636409908533096,
           0.011931228451430798,
           0.007716575637459755,
           0.010076493956148624,
           0.008009769953787327,
           0.010502959601581097,
           0.012150286696851254,
           0.010313031263649464,
           0.008511696010828018,
           0.0077670239843428135,
           0.01200979482382536,
           0.008094798773527145,
           0.023811228573322296
          ],
          [
           0.15000000596046448,
           0.026536034420132637,
           0.036216605454683304,
           0.07733804732561111,
           0.0420910082757473,
           0.05572975054383278,
           0.01868385449051857,
           0.010864917188882828,
           0.01149459183216095,
           0.007707824464887381,
           0.010657169856131077,
           0.00858550239354372,
           0.009200374595820904,
           0.010475687682628632,
           0.006213577464222908,
           0.006118895951658487,
           0.0050988271832466125,
           0.008999086916446686,
           0.00599348358809948,
           0.022500956431031227
          ],
          [
           0.15000000596046448,
           0.03450937941670418,
           0.04300285875797272,
           0.0655379444360733,
           0.04912861809134483,
           0.04690229520201683,
           0.05298241972923279,
           0.017240887507796288,
           0.016637180000543594,
           0.011283530853688717,
           0.013911892659962177,
           0.009357082657516003,
           0.014907769858837128,
           0.014708093367516994,
           0.01139833778142929,
           0.008046768605709076,
           0.0075101424008607864,
           0.011910487897694111,
           0.008049167692661285,
           0.025213191285729408
          ],
          [
           0.15000000596046448,
           0.032188598066568375,
           0.03460602089762688,
           0.03682795539498329,
           0.012994211167097092,
           0.04216288402676582,
           0.029835226014256477,
           0.04651891067624092,
           0.040513765066862106,
           0.014099638909101486,
           0.017624028027057648,
           0.011528712697327137,
           0.013307751156389713,
           0.01676924340426922,
           0.013181865215301514,
           0.01040202658623457,
           0.007808985188603401,
           0.012818650342524052,
           0.010883710347115993,
           0.026094816625118256
          ],
          [
           0.15000000596046448,
           0.032410841435194016,
           0.03950507938861847,
           0.03262454643845558,
           0.012880806811153889,
           0.025317443534731865,
           0.0761427953839302,
           0.025024905800819397,
           0.07348041981458664,
           0.023925011977553368,
           0.02755150943994522,
           0.018562378361821175,
           0.018530696630477905,
           0.021714404225349426,
           0.02132284641265869,
           0.014929366298019886,
           0.010855537839233875,
           0.014935540966689587,
           0.012507659383118153,
           0.03617500886321068
          ],
          [
           0.15000000596046448,
           0.034270647913217545,
           0.03683729097247124,
           0.02971593849360943,
           0.009681529365479946,
           0.019258247688412666,
           0.04624222591519356,
           0.038899559527635574,
           0.03339812159538269,
           0.03681140020489693,
           0.0308905690908432,
           0.019111959263682365,
           0.018413035199046135,
           0.018403099849820137,
           0.019251978024840355,
           0.013866349123418331,
           0.011744607239961624,
           0.01787063665688038,
           0.01468875352293253,
           0.03525039181113243
          ],
          [
           0.15000000596046448,
           0.026466069743037224,
           0.03225693479180336,
           0.018280042335391045,
           0.007335589732974768,
           0.010958540253341198,
           0.013219036161899567,
           0.015263666398823261,
           0.03503156080842018,
           0.030452927574515343,
           0.07911495119333267,
           0.027961179614067078,
           0.020376738160848618,
           0.020466534420847893,
           0.025633273646235466,
           0.017317892983555794,
           0.01401286106556654,
           0.02178368531167507,
           0.015669047832489014,
           0.027901871129870415
          ],
          [
           0.15000000596046448,
           0.021731460466980934,
           0.023649483919143677,
           0.014752894639968872,
           0.006013436242938042,
           0.008846677839756012,
           0.014142840169370174,
           0.012634017504751682,
           0.018137184903025627,
           0.05179610848426819,
           0.04066691920161247,
           0.03757080063223839,
           0.018236512318253517,
           0.019765986129641533,
           0.022459572181105614,
           0.01706131175160408,
           0.01255136076360941,
           0.019462624564766884,
           0.017615897580981255,
           0.027772827073931694
          ],
          [
           0.15000000596046448,
           0.01813098043203354,
           0.01668211817741394,
           0.01627948321402073,
           0.007171339821070433,
           0.009303789585828781,
           0.010533828288316727,
           0.010246976278722286,
           0.01315001305192709,
           0.02342809922993183,
           0.05270363762974739,
           0.03208002820611,
           0.057450663298368454,
           0.04069741442799568,
           0.023106733337044716,
           0.011596481315791607,
           0.008449604734778404,
           0.015735337510704994,
           0.01121679786592722,
           0.027390094473958015
          ],
          [
           0.15000000596046448,
           0.015322372317314148,
           0.015711823478341103,
           0.014514959417283535,
           0.008780042640864849,
           0.011245095171034336,
           0.010401872918009758,
           0.009682446718215942,
           0.012736708857119083,
           0.01714349165558815,
           0.02584116719663143,
           0.053900834172964096,
           0.0328490175306797,
           0.05658484995365143,
           0.02313762903213501,
           0.01028198841959238,
           0.008991185575723648,
           0.013506103307008743,
           0.010090201161801815,
           0.026453351601958275
          ],
          [
           0.15000000596046448,
           0.01649010367691517,
           0.01873423345386982,
           0.016291147097945213,
           0.008453592658042908,
           0.01542064268141985,
           0.013714626431465149,
           0.012839746661484241,
           0.017308615148067474,
           0.017911480739712715,
           0.027035392820835114,
           0.03276878967881203,
           0.05156318470835686,
           0.042890775948762894,
           0.06067000329494476,
           0.023801704868674278,
           0.01516236737370491,
           0.02529025822877884,
           0.014399368315935135,
           0.034031327813863754
          ],
          [
           0.15000000596046448,
           0.019197793677449226,
           0.02100195735692978,
           0.014340613037347794,
           0.006187479943037033,
           0.009683435782790184,
           0.011918947100639343,
           0.010764464735984802,
           0.014864540658891201,
           0.025348752737045288,
           0.029667476192116737,
           0.021127576008439064,
           0.025483788922429085,
           0.05045695975422859,
           0.03488936647772789,
           0.05710621550679207,
           0.026562394574284554,
           0.04287878796458244,
           0.021907217800617218,
           0.034386150538921356
          ],
          [
           0.15000000596046448,
           0.022178979590535164,
           0.019897041842341423,
           0.013641376979649067,
           0.005451520439237356,
           0.007836236618459225,
           0.009719142690300941,
           0.008623503148555756,
           0.0130724236369133,
           0.019298728555440903,
           0.02476722002029419,
           0.012662614695727825,
           0.013080920092761517,
           0.028986521065235138,
           0.06602080911397934,
           0.03917989134788513,
           0.04378621652722359,
           0.06813637167215347,
           0.036179423332214355,
           0.03214924409985542
          ],
          [
           0.15000000596046448,
           0.019196396693587303,
           0.0204674880951643,
           0.016607247292995453,
           0.005957570392638445,
           0.00883959885686636,
           0.01017108466476202,
           0.009495827369391918,
           0.012791036628186703,
           0.016498005017638206,
           0.02453199028968811,
           0.011832556687295437,
           0.012965661473572254,
           0.020970771089196205,
           0.050084810703992844,
           0.06197698041796684,
           0.03261873871088028,
           0.09386930614709854,
           0.044654205441474915,
           0.04244944453239441
          ],
          [
           0.15000000596046448,
           0.014004032127559185,
           0.016726216301321983,
           0.011928106658160686,
           0.004944457206875086,
           0.008122158236801624,
           0.0074319359846413136,
           0.0063051884062588215,
           0.008692220784723759,
           0.010621286928653717,
           0.015891678631305695,
           0.007952836342155933,
           0.01099887490272522,
           0.016768811270594597,
           0.02803085744380951,
           0.033163849264383316,
           0.034604329615831375,
           0.04655368998646736,
           0.04510948434472084,
           0.031645726412534714
          ],
          [
           0.15000000596046448,
           0.018130658194422722,
           0.018168974667787552,
           0.013306518085300922,
           0.005732076708227396,
           0.008907904848456383,
           0.009905931539833546,
           0.00860129576176405,
           0.011115672998130322,
           0.014398939907550812,
           0.032396722584962845,
           0.010785955935716629,
           0.01414976641535759,
           0.016757093369960785,
           0.029738979414105415,
           0.04513132572174072,
           0.031593456864356995,
           0.07831063121557236,
           0.0392209030687809,
           0.0457162968814373
          ],
          [
           0.15000000596046448,
           0.01359464693814516,
           0.011198438704013824,
           0.009682944975793362,
           0.005534120369702578,
           0.0068575479090213776,
           0.008666040375828743,
           0.007426021620631218,
           0.009982059709727764,
           0.008122795261442661,
           0.010646563023328781,
           0.00742881977930665,
           0.007784218993037939,
           0.012309260666370392,
           0.011581125669181347,
           0.009982069954276085,
           0.012777402997016907,
           0.01833656057715416,
           0.018052032217383385,
           0.04987690970301628
          ]
         ]
        }
       ],
       "layout": {
        "coloraxis": {
         "colorscale": [
          [
           0,
           "#0d0887"
          ],
          [
           0.1111111111111111,
           "#46039f"
          ],
          [
           0.2222222222222222,
           "#7201a8"
          ],
          [
           0.3333333333333333,
           "#9c179e"
          ],
          [
           0.4444444444444444,
           "#bd3786"
          ],
          [
           0.5555555555555556,
           "#d8576b"
          ],
          [
           0.6666666666666666,
           "#ed7953"
          ],
          [
           0.7777777777777778,
           "#fb9f3a"
          ],
          [
           0.8888888888888888,
           "#fdca26"
          ],
          [
           1,
           "#f0f921"
          ]
         ]
        },
        "margin": {
         "t": 60
        },
        "template": {
         "data": {
          "bar": [
           {
            "error_x": {
             "color": "#2a3f5f"
            },
            "error_y": {
             "color": "#2a3f5f"
            },
            "marker": {
             "line": {
              "color": "#E5ECF6",
              "width": 0.5
             },
             "pattern": {
              "fillmode": "overlay",
              "size": 10,
              "solidity": 0.2
             }
            },
            "type": "bar"
           }
          ],
          "barpolar": [
           {
            "marker": {
             "line": {
              "color": "#E5ECF6",
              "width": 0.5
             },
             "pattern": {
              "fillmode": "overlay",
              "size": 10,
              "solidity": 0.2
             }
            },
            "type": "barpolar"
           }
          ],
          "carpet": [
           {
            "aaxis": {
             "endlinecolor": "#2a3f5f",
             "gridcolor": "white",
             "linecolor": "white",
             "minorgridcolor": "white",
             "startlinecolor": "#2a3f5f"
            },
            "baxis": {
             "endlinecolor": "#2a3f5f",
             "gridcolor": "white",
             "linecolor": "white",
             "minorgridcolor": "white",
             "startlinecolor": "#2a3f5f"
            },
            "type": "carpet"
           }
          ],
          "choropleth": [
           {
            "colorbar": {
             "outlinewidth": 0,
             "ticks": ""
            },
            "type": "choropleth"
           }
          ],
          "contour": [
           {
            "colorbar": {
             "outlinewidth": 0,
             "ticks": ""
            },
            "colorscale": [
             [
              0,
              "#0d0887"
             ],
             [
              0.1111111111111111,
              "#46039f"
             ],
             [
              0.2222222222222222,
              "#7201a8"
             ],
             [
              0.3333333333333333,
              "#9c179e"
             ],
             [
              0.4444444444444444,
              "#bd3786"
             ],
             [
              0.5555555555555556,
              "#d8576b"
             ],
             [
              0.6666666666666666,
              "#ed7953"
             ],
             [
              0.7777777777777778,
              "#fb9f3a"
             ],
             [
              0.8888888888888888,
              "#fdca26"
             ],
             [
              1,
              "#f0f921"
             ]
            ],
            "type": "contour"
           }
          ],
          "contourcarpet": [
           {
            "colorbar": {
             "outlinewidth": 0,
             "ticks": ""
            },
            "type": "contourcarpet"
           }
          ],
          "heatmap": [
           {
            "colorbar": {
             "outlinewidth": 0,
             "ticks": ""
            },
            "colorscale": [
             [
              0,
              "#0d0887"
             ],
             [
              0.1111111111111111,
              "#46039f"
             ],
             [
              0.2222222222222222,
              "#7201a8"
             ],
             [
              0.3333333333333333,
              "#9c179e"
             ],
             [
              0.4444444444444444,
              "#bd3786"
             ],
             [
              0.5555555555555556,
              "#d8576b"
             ],
             [
              0.6666666666666666,
              "#ed7953"
             ],
             [
              0.7777777777777778,
              "#fb9f3a"
             ],
             [
              0.8888888888888888,
              "#fdca26"
             ],
             [
              1,
              "#f0f921"
             ]
            ],
            "type": "heatmap"
           }
          ],
          "heatmapgl": [
           {
            "colorbar": {
             "outlinewidth": 0,
             "ticks": ""
            },
            "colorscale": [
             [
              0,
              "#0d0887"
             ],
             [
              0.1111111111111111,
              "#46039f"
             ],
             [
              0.2222222222222222,
              "#7201a8"
             ],
             [
              0.3333333333333333,
              "#9c179e"
             ],
             [
              0.4444444444444444,
              "#bd3786"
             ],
             [
              0.5555555555555556,
              "#d8576b"
             ],
             [
              0.6666666666666666,
              "#ed7953"
             ],
             [
              0.7777777777777778,
              "#fb9f3a"
             ],
             [
              0.8888888888888888,
              "#fdca26"
             ],
             [
              1,
              "#f0f921"
             ]
            ],
            "type": "heatmapgl"
           }
          ],
          "histogram": [
           {
            "marker": {
             "pattern": {
              "fillmode": "overlay",
              "size": 10,
              "solidity": 0.2
             }
            },
            "type": "histogram"
           }
          ],
          "histogram2d": [
           {
            "colorbar": {
             "outlinewidth": 0,
             "ticks": ""
            },
            "colorscale": [
             [
              0,
              "#0d0887"
             ],
             [
              0.1111111111111111,
              "#46039f"
             ],
             [
              0.2222222222222222,
              "#7201a8"
             ],
             [
              0.3333333333333333,
              "#9c179e"
             ],
             [
              0.4444444444444444,
              "#bd3786"
             ],
             [
              0.5555555555555556,
              "#d8576b"
             ],
             [
              0.6666666666666666,
              "#ed7953"
             ],
             [
              0.7777777777777778,
              "#fb9f3a"
             ],
             [
              0.8888888888888888,
              "#fdca26"
             ],
             [
              1,
              "#f0f921"
             ]
            ],
            "type": "histogram2d"
           }
          ],
          "histogram2dcontour": [
           {
            "colorbar": {
             "outlinewidth": 0,
             "ticks": ""
            },
            "colorscale": [
             [
              0,
              "#0d0887"
             ],
             [
              0.1111111111111111,
              "#46039f"
             ],
             [
              0.2222222222222222,
              "#7201a8"
             ],
             [
              0.3333333333333333,
              "#9c179e"
             ],
             [
              0.4444444444444444,
              "#bd3786"
             ],
             [
              0.5555555555555556,
              "#d8576b"
             ],
             [
              0.6666666666666666,
              "#ed7953"
             ],
             [
              0.7777777777777778,
              "#fb9f3a"
             ],
             [
              0.8888888888888888,
              "#fdca26"
             ],
             [
              1,
              "#f0f921"
             ]
            ],
            "type": "histogram2dcontour"
           }
          ],
          "mesh3d": [
           {
            "colorbar": {
             "outlinewidth": 0,
             "ticks": ""
            },
            "type": "mesh3d"
           }
          ],
          "parcoords": [
           {
            "line": {
             "colorbar": {
              "outlinewidth": 0,
              "ticks": ""
             }
            },
            "type": "parcoords"
           }
          ],
          "pie": [
           {
            "automargin": true,
            "type": "pie"
           }
          ],
          "scatter": [
           {
            "fillpattern": {
             "fillmode": "overlay",
             "size": 10,
             "solidity": 0.2
            },
            "type": "scatter"
           }
          ],
          "scatter3d": [
           {
            "line": {
             "colorbar": {
              "outlinewidth": 0,
              "ticks": ""
             }
            },
            "marker": {
             "colorbar": {
              "outlinewidth": 0,
              "ticks": ""
             }
            },
            "type": "scatter3d"
           }
          ],
          "scattercarpet": [
           {
            "marker": {
             "colorbar": {
              "outlinewidth": 0,
              "ticks": ""
             }
            },
            "type": "scattercarpet"
           }
          ],
          "scattergeo": [
           {
            "marker": {
             "colorbar": {
              "outlinewidth": 0,
              "ticks": ""
             }
            },
            "type": "scattergeo"
           }
          ],
          "scattergl": [
           {
            "marker": {
             "colorbar": {
              "outlinewidth": 0,
              "ticks": ""
             }
            },
            "type": "scattergl"
           }
          ],
          "scattermapbox": [
           {
            "marker": {
             "colorbar": {
              "outlinewidth": 0,
              "ticks": ""
             }
            },
            "type": "scattermapbox"
           }
          ],
          "scatterpolar": [
           {
            "marker": {
             "colorbar": {
              "outlinewidth": 0,
              "ticks": ""
             }
            },
            "type": "scatterpolar"
           }
          ],
          "scatterpolargl": [
           {
            "marker": {
             "colorbar": {
              "outlinewidth": 0,
              "ticks": ""
             }
            },
            "type": "scatterpolargl"
           }
          ],
          "scatterternary": [
           {
            "marker": {
             "colorbar": {
              "outlinewidth": 0,
              "ticks": ""
             }
            },
            "type": "scatterternary"
           }
          ],
          "surface": [
           {
            "colorbar": {
             "outlinewidth": 0,
             "ticks": ""
            },
            "colorscale": [
             [
              0,
              "#0d0887"
             ],
             [
              0.1111111111111111,
              "#46039f"
             ],
             [
              0.2222222222222222,
              "#7201a8"
             ],
             [
              0.3333333333333333,
              "#9c179e"
             ],
             [
              0.4444444444444444,
              "#bd3786"
             ],
             [
              0.5555555555555556,
              "#d8576b"
             ],
             [
              0.6666666666666666,
              "#ed7953"
             ],
             [
              0.7777777777777778,
              "#fb9f3a"
             ],
             [
              0.8888888888888888,
              "#fdca26"
             ],
             [
              1,
              "#f0f921"
             ]
            ],
            "type": "surface"
           }
          ],
          "table": [
           {
            "cells": {
             "fill": {
              "color": "#EBF0F8"
             },
             "line": {
              "color": "white"
             }
            },
            "header": {
             "fill": {
              "color": "#C8D4E3"
             },
             "line": {
              "color": "white"
             }
            },
            "type": "table"
           }
          ]
         },
         "layout": {
          "annotationdefaults": {
           "arrowcolor": "#2a3f5f",
           "arrowhead": 0,
           "arrowwidth": 1
          },
          "autotypenumbers": "strict",
          "coloraxis": {
           "colorbar": {
            "outlinewidth": 0,
            "ticks": ""
           }
          },
          "colorscale": {
           "diverging": [
            [
             0,
             "#8e0152"
            ],
            [
             0.1,
             "#c51b7d"
            ],
            [
             0.2,
             "#de77ae"
            ],
            [
             0.3,
             "#f1b6da"
            ],
            [
             0.4,
             "#fde0ef"
            ],
            [
             0.5,
             "#f7f7f7"
            ],
            [
             0.6,
             "#e6f5d0"
            ],
            [
             0.7,
             "#b8e186"
            ],
            [
             0.8,
             "#7fbc41"
            ],
            [
             0.9,
             "#4d9221"
            ],
            [
             1,
             "#276419"
            ]
           ],
           "sequential": [
            [
             0,
             "#0d0887"
            ],
            [
             0.1111111111111111,
             "#46039f"
            ],
            [
             0.2222222222222222,
             "#7201a8"
            ],
            [
             0.3333333333333333,
             "#9c179e"
            ],
            [
             0.4444444444444444,
             "#bd3786"
            ],
            [
             0.5555555555555556,
             "#d8576b"
            ],
            [
             0.6666666666666666,
             "#ed7953"
            ],
            [
             0.7777777777777778,
             "#fb9f3a"
            ],
            [
             0.8888888888888888,
             "#fdca26"
            ],
            [
             1,
             "#f0f921"
            ]
           ],
           "sequentialminus": [
            [
             0,
             "#0d0887"
            ],
            [
             0.1111111111111111,
             "#46039f"
            ],
            [
             0.2222222222222222,
             "#7201a8"
            ],
            [
             0.3333333333333333,
             "#9c179e"
            ],
            [
             0.4444444444444444,
             "#bd3786"
            ],
            [
             0.5555555555555556,
             "#d8576b"
            ],
            [
             0.6666666666666666,
             "#ed7953"
            ],
            [
             0.7777777777777778,
             "#fb9f3a"
            ],
            [
             0.8888888888888888,
             "#fdca26"
            ],
            [
             1,
             "#f0f921"
            ]
           ]
          },
          "colorway": [
           "#636efa",
           "#EF553B",
           "#00cc96",
           "#ab63fa",
           "#FFA15A",
           "#19d3f3",
           "#FF6692",
           "#B6E880",
           "#FF97FF",
           "#FECB52"
          ],
          "font": {
           "color": "#2a3f5f"
          },
          "geo": {
           "bgcolor": "white",
           "lakecolor": "white",
           "landcolor": "#E5ECF6",
           "showlakes": true,
           "showland": true,
           "subunitcolor": "white"
          },
          "hoverlabel": {
           "align": "left"
          },
          "hovermode": "closest",
          "mapbox": {
           "style": "light"
          },
          "paper_bgcolor": "white",
          "plot_bgcolor": "#E5ECF6",
          "polar": {
           "angularaxis": {
            "gridcolor": "white",
            "linecolor": "white",
            "ticks": ""
           },
           "bgcolor": "#E5ECF6",
           "radialaxis": {
            "gridcolor": "white",
            "linecolor": "white",
            "ticks": ""
           }
          },
          "scene": {
           "xaxis": {
            "backgroundcolor": "#E5ECF6",
            "gridcolor": "white",
            "gridwidth": 2,
            "linecolor": "white",
            "showbackground": true,
            "ticks": "",
            "zerolinecolor": "white"
           },
           "yaxis": {
            "backgroundcolor": "#E5ECF6",
            "gridcolor": "white",
            "gridwidth": 2,
            "linecolor": "white",
            "showbackground": true,
            "ticks": "",
            "zerolinecolor": "white"
           },
           "zaxis": {
            "backgroundcolor": "#E5ECF6",
            "gridcolor": "white",
            "gridwidth": 2,
            "linecolor": "white",
            "showbackground": true,
            "ticks": "",
            "zerolinecolor": "white"
           }
          },
          "shapedefaults": {
           "line": {
            "color": "#2a3f5f"
           }
          },
          "ternary": {
           "aaxis": {
            "gridcolor": "white",
            "linecolor": "white",
            "ticks": ""
           },
           "baxis": {
            "gridcolor": "white",
            "linecolor": "white",
            "ticks": ""
           },
           "bgcolor": "#E5ECF6",
           "caxis": {
            "gridcolor": "white",
            "linecolor": "white",
            "ticks": ""
           }
          },
          "title": {
           "x": 0.05
          },
          "xaxis": {
           "automargin": true,
           "gridcolor": "white",
           "linecolor": "white",
           "ticks": "",
           "title": {
            "standoff": 15
           },
           "zerolinecolor": "white",
           "zerolinewidth": 2
          },
          "yaxis": {
           "automargin": true,
           "gridcolor": "white",
           "linecolor": "white",
           "ticks": "",
           "title": {
            "standoff": 15
           },
           "zerolinecolor": "white",
           "zerolinewidth": 2
          }
         }
        },
        "xaxis": {
         "anchor": "y",
         "constrain": "domain",
         "domain": [
          0,
          1
         ],
         "scaleanchor": "y",
         "ticktext": [
          "[CLS]",
          "you",
          "too",
          "du@@",
          "der@@",
          "t",
          "<@@",
          "user@@",
          ">",
          "good",
          "morning",
          "y@@",
          "all@@",
          ",",
          "and",
          "have",
          "a",
          "splendid",
          "day",
          "[SEP]"
         ],
         "tickvals": [
          0,
          1,
          2,
          3,
          4,
          5,
          6,
          7,
          8,
          9,
          10,
          11,
          12,
          13,
          14,
          15,
          16,
          17,
          18,
          19
         ],
         "title": {
          "text": "Key"
         }
        },
        "yaxis": {
         "anchor": "x",
         "autorange": "reversed",
         "constrain": "domain",
         "domain": [
          0,
          1
         ],
         "ticktext": [
          "[CLS]",
          "you",
          "too",
          "du@@",
          "der@@",
          "t",
          "<@@",
          "user@@",
          ">",
          "good",
          "morning",
          "y@@",
          "all@@",
          ",",
          "and",
          "have",
          "a",
          "splendid",
          "day",
          "[SEP]"
         ],
         "tickvals": [
          0,
          1,
          2,
          3,
          4,
          5,
          6,
          7,
          8,
          9,
          10,
          11,
          12,
          13,
          14,
          15,
          16,
          17,
          18,
          19
         ],
         "title": {
          "text": "Query"
         }
        }
       }
      }
     },
     "metadata": {},
     "output_type": "display_data"
    }
   ],
   "source": [
    "tokenizer = AutoTokenizer.from_pretrained(checkpoint)\n",
    "tokenizer.model_max_len=128\n",
    "\n",
    "\n",
    "tweet = 'you too dudert <user> good morning yall, and have a splendid day'\n",
    "\n",
    "# Tokenize Tweet\n",
    "tokenized_tweet = tokenizer(tweet, truncation=True, max_length=128, return_tensors=\"pt\",return_token_type_ids=False)\n",
    "tokenized_tweetken = tokenized_tweet.to(device)\n",
    "\n",
    "# Convert token IDs back to words\n",
    "decoded_tokens = tokenizer.convert_ids_to_tokens(tokenized_tweet['input_ids'][0].tolist(),skip_special_tokens = False )\n",
    "\n",
    "# Replace <s> by [CLS]\n",
    "decoded_tokens = ['[CLS]' if token == '<s>' else token for token in decoded_tokens]\n",
    "\n",
    "# Replace </s> by [SEP]\n",
    "decoded_tokens = ['[SEP]' if token == '</s>' else token for token in decoded_tokens]\n",
    "\n",
    "\n",
    "# Use First Best Model to plot Attention Map\n",
    "# with torch.no_grad():\n",
    "outputs, pure_loss = model_classfier_1(**tokenized_tweet)\n",
    "attention = outputs.attentions\n",
    "\n",
    "# # Plot Mean Attention\n",
    "mean_attention = torch.stack(attention).mean(dim=0).cpu().detach().numpy().mean(axis=0).mean(axis=0)\n",
    "mean_attention_clipped = np.clip(mean_attention,0,0.15)\n",
    "\n",
    "\n",
    "\n",
    "# Plot attention\n",
    "fig_attention = px.imshow(mean_attention_clipped,labels=dict(x=\"Key\", y=\"Query\"))\n",
    "\n",
    "# Add xticks and yticks\n",
    "fig_attention.update_xaxes(tickvals=list(range(len(decoded_tokens))), ticktext=decoded_tokens, title_text=\"Key\")\n",
    "fig_attention.update_yaxes(tickvals=list(range(len(decoded_tokens))), ticktext=decoded_tokens, title_text=\"Query\")\n",
    "\n",
    "fig_attention.show()"
   ]
  },
  {
   "cell_type": "code",
   "execution_count": 38,
   "metadata": {},
   "outputs": [
    {
     "data": {
      "application/vnd.plotly.v1+json": {
       "config": {
        "plotlyServerURL": "https://plot.ly"
       },
       "data": [
        {
         "coloraxis": "coloraxis",
         "hovertemplate": "x: %{x}<br>y: %{y}<br>color: %{z}<extra></extra>",
         "name": "0",
         "type": "heatmap",
         "xaxis": "x",
         "yaxis": "y",
         "z": [
          [
           0.6499999761581421,
           0.543746292591095,
           0.5738376975059509,
           0.6225939393043518,
           0.6194937825202942,
           0.5377619862556458,
           0.569832980632782,
           0.46160316467285156,
           0.5153936743736267,
           0.5404976010322571,
           0.595132052898407,
           0.5946465730667114,
           0.6228248476982117,
           0.5352226495742798,
           0.522226095199585,
           0.5153318047523499,
           0.48402127623558044,
           0.6405043005943298,
           0.547930896282196,
           0.6499999761581421
          ]
         ]
        }
       ],
       "layout": {
        "coloraxis": {
         "colorscale": [
          [
           0,
           "#0d0887"
          ],
          [
           0.1111111111111111,
           "#46039f"
          ],
          [
           0.2222222222222222,
           "#7201a8"
          ],
          [
           0.3333333333333333,
           "#9c179e"
          ],
          [
           0.4444444444444444,
           "#bd3786"
          ],
          [
           0.5555555555555556,
           "#d8576b"
          ],
          [
           0.6666666666666666,
           "#ed7953"
          ],
          [
           0.7777777777777778,
           "#fb9f3a"
          ],
          [
           0.8888888888888888,
           "#fdca26"
          ],
          [
           1,
           "#f0f921"
          ]
         ]
        },
        "margin": {
         "t": 60
        },
        "template": {
         "data": {
          "bar": [
           {
            "error_x": {
             "color": "#2a3f5f"
            },
            "error_y": {
             "color": "#2a3f5f"
            },
            "marker": {
             "line": {
              "color": "#E5ECF6",
              "width": 0.5
             },
             "pattern": {
              "fillmode": "overlay",
              "size": 10,
              "solidity": 0.2
             }
            },
            "type": "bar"
           }
          ],
          "barpolar": [
           {
            "marker": {
             "line": {
              "color": "#E5ECF6",
              "width": 0.5
             },
             "pattern": {
              "fillmode": "overlay",
              "size": 10,
              "solidity": 0.2
             }
            },
            "type": "barpolar"
           }
          ],
          "carpet": [
           {
            "aaxis": {
             "endlinecolor": "#2a3f5f",
             "gridcolor": "white",
             "linecolor": "white",
             "minorgridcolor": "white",
             "startlinecolor": "#2a3f5f"
            },
            "baxis": {
             "endlinecolor": "#2a3f5f",
             "gridcolor": "white",
             "linecolor": "white",
             "minorgridcolor": "white",
             "startlinecolor": "#2a3f5f"
            },
            "type": "carpet"
           }
          ],
          "choropleth": [
           {
            "colorbar": {
             "outlinewidth": 0,
             "ticks": ""
            },
            "type": "choropleth"
           }
          ],
          "contour": [
           {
            "colorbar": {
             "outlinewidth": 0,
             "ticks": ""
            },
            "colorscale": [
             [
              0,
              "#0d0887"
             ],
             [
              0.1111111111111111,
              "#46039f"
             ],
             [
              0.2222222222222222,
              "#7201a8"
             ],
             [
              0.3333333333333333,
              "#9c179e"
             ],
             [
              0.4444444444444444,
              "#bd3786"
             ],
             [
              0.5555555555555556,
              "#d8576b"
             ],
             [
              0.6666666666666666,
              "#ed7953"
             ],
             [
              0.7777777777777778,
              "#fb9f3a"
             ],
             [
              0.8888888888888888,
              "#fdca26"
             ],
             [
              1,
              "#f0f921"
             ]
            ],
            "type": "contour"
           }
          ],
          "contourcarpet": [
           {
            "colorbar": {
             "outlinewidth": 0,
             "ticks": ""
            },
            "type": "contourcarpet"
           }
          ],
          "heatmap": [
           {
            "colorbar": {
             "outlinewidth": 0,
             "ticks": ""
            },
            "colorscale": [
             [
              0,
              "#0d0887"
             ],
             [
              0.1111111111111111,
              "#46039f"
             ],
             [
              0.2222222222222222,
              "#7201a8"
             ],
             [
              0.3333333333333333,
              "#9c179e"
             ],
             [
              0.4444444444444444,
              "#bd3786"
             ],
             [
              0.5555555555555556,
              "#d8576b"
             ],
             [
              0.6666666666666666,
              "#ed7953"
             ],
             [
              0.7777777777777778,
              "#fb9f3a"
             ],
             [
              0.8888888888888888,
              "#fdca26"
             ],
             [
              1,
              "#f0f921"
             ]
            ],
            "type": "heatmap"
           }
          ],
          "heatmapgl": [
           {
            "colorbar": {
             "outlinewidth": 0,
             "ticks": ""
            },
            "colorscale": [
             [
              0,
              "#0d0887"
             ],
             [
              0.1111111111111111,
              "#46039f"
             ],
             [
              0.2222222222222222,
              "#7201a8"
             ],
             [
              0.3333333333333333,
              "#9c179e"
             ],
             [
              0.4444444444444444,
              "#bd3786"
             ],
             [
              0.5555555555555556,
              "#d8576b"
             ],
             [
              0.6666666666666666,
              "#ed7953"
             ],
             [
              0.7777777777777778,
              "#fb9f3a"
             ],
             [
              0.8888888888888888,
              "#fdca26"
             ],
             [
              1,
              "#f0f921"
             ]
            ],
            "type": "heatmapgl"
           }
          ],
          "histogram": [
           {
            "marker": {
             "pattern": {
              "fillmode": "overlay",
              "size": 10,
              "solidity": 0.2
             }
            },
            "type": "histogram"
           }
          ],
          "histogram2d": [
           {
            "colorbar": {
             "outlinewidth": 0,
             "ticks": ""
            },
            "colorscale": [
             [
              0,
              "#0d0887"
             ],
             [
              0.1111111111111111,
              "#46039f"
             ],
             [
              0.2222222222222222,
              "#7201a8"
             ],
             [
              0.3333333333333333,
              "#9c179e"
             ],
             [
              0.4444444444444444,
              "#bd3786"
             ],
             [
              0.5555555555555556,
              "#d8576b"
             ],
             [
              0.6666666666666666,
              "#ed7953"
             ],
             [
              0.7777777777777778,
              "#fb9f3a"
             ],
             [
              0.8888888888888888,
              "#fdca26"
             ],
             [
              1,
              "#f0f921"
             ]
            ],
            "type": "histogram2d"
           }
          ],
          "histogram2dcontour": [
           {
            "colorbar": {
             "outlinewidth": 0,
             "ticks": ""
            },
            "colorscale": [
             [
              0,
              "#0d0887"
             ],
             [
              0.1111111111111111,
              "#46039f"
             ],
             [
              0.2222222222222222,
              "#7201a8"
             ],
             [
              0.3333333333333333,
              "#9c179e"
             ],
             [
              0.4444444444444444,
              "#bd3786"
             ],
             [
              0.5555555555555556,
              "#d8576b"
             ],
             [
              0.6666666666666666,
              "#ed7953"
             ],
             [
              0.7777777777777778,
              "#fb9f3a"
             ],
             [
              0.8888888888888888,
              "#fdca26"
             ],
             [
              1,
              "#f0f921"
             ]
            ],
            "type": "histogram2dcontour"
           }
          ],
          "mesh3d": [
           {
            "colorbar": {
             "outlinewidth": 0,
             "ticks": ""
            },
            "type": "mesh3d"
           }
          ],
          "parcoords": [
           {
            "line": {
             "colorbar": {
              "outlinewidth": 0,
              "ticks": ""
             }
            },
            "type": "parcoords"
           }
          ],
          "pie": [
           {
            "automargin": true,
            "type": "pie"
           }
          ],
          "scatter": [
           {
            "fillpattern": {
             "fillmode": "overlay",
             "size": 10,
             "solidity": 0.2
            },
            "type": "scatter"
           }
          ],
          "scatter3d": [
           {
            "line": {
             "colorbar": {
              "outlinewidth": 0,
              "ticks": ""
             }
            },
            "marker": {
             "colorbar": {
              "outlinewidth": 0,
              "ticks": ""
             }
            },
            "type": "scatter3d"
           }
          ],
          "scattercarpet": [
           {
            "marker": {
             "colorbar": {
              "outlinewidth": 0,
              "ticks": ""
             }
            },
            "type": "scattercarpet"
           }
          ],
          "scattergeo": [
           {
            "marker": {
             "colorbar": {
              "outlinewidth": 0,
              "ticks": ""
             }
            },
            "type": "scattergeo"
           }
          ],
          "scattergl": [
           {
            "marker": {
             "colorbar": {
              "outlinewidth": 0,
              "ticks": ""
             }
            },
            "type": "scattergl"
           }
          ],
          "scattermapbox": [
           {
            "marker": {
             "colorbar": {
              "outlinewidth": 0,
              "ticks": ""
             }
            },
            "type": "scattermapbox"
           }
          ],
          "scatterpolar": [
           {
            "marker": {
             "colorbar": {
              "outlinewidth": 0,
              "ticks": ""
             }
            },
            "type": "scatterpolar"
           }
          ],
          "scatterpolargl": [
           {
            "marker": {
             "colorbar": {
              "outlinewidth": 0,
              "ticks": ""
             }
            },
            "type": "scatterpolargl"
           }
          ],
          "scatterternary": [
           {
            "marker": {
             "colorbar": {
              "outlinewidth": 0,
              "ticks": ""
             }
            },
            "type": "scatterternary"
           }
          ],
          "surface": [
           {
            "colorbar": {
             "outlinewidth": 0,
             "ticks": ""
            },
            "colorscale": [
             [
              0,
              "#0d0887"
             ],
             [
              0.1111111111111111,
              "#46039f"
             ],
             [
              0.2222222222222222,
              "#7201a8"
             ],
             [
              0.3333333333333333,
              "#9c179e"
             ],
             [
              0.4444444444444444,
              "#bd3786"
             ],
             [
              0.5555555555555556,
              "#d8576b"
             ],
             [
              0.6666666666666666,
              "#ed7953"
             ],
             [
              0.7777777777777778,
              "#fb9f3a"
             ],
             [
              0.8888888888888888,
              "#fdca26"
             ],
             [
              1,
              "#f0f921"
             ]
            ],
            "type": "surface"
           }
          ],
          "table": [
           {
            "cells": {
             "fill": {
              "color": "#EBF0F8"
             },
             "line": {
              "color": "white"
             }
            },
            "header": {
             "fill": {
              "color": "#C8D4E3"
             },
             "line": {
              "color": "white"
             }
            },
            "type": "table"
           }
          ]
         },
         "layout": {
          "annotationdefaults": {
           "arrowcolor": "#2a3f5f",
           "arrowhead": 0,
           "arrowwidth": 1
          },
          "autotypenumbers": "strict",
          "coloraxis": {
           "colorbar": {
            "outlinewidth": 0,
            "ticks": ""
           }
          },
          "colorscale": {
           "diverging": [
            [
             0,
             "#8e0152"
            ],
            [
             0.1,
             "#c51b7d"
            ],
            [
             0.2,
             "#de77ae"
            ],
            [
             0.3,
             "#f1b6da"
            ],
            [
             0.4,
             "#fde0ef"
            ],
            [
             0.5,
             "#f7f7f7"
            ],
            [
             0.6,
             "#e6f5d0"
            ],
            [
             0.7,
             "#b8e186"
            ],
            [
             0.8,
             "#7fbc41"
            ],
            [
             0.9,
             "#4d9221"
            ],
            [
             1,
             "#276419"
            ]
           ],
           "sequential": [
            [
             0,
             "#0d0887"
            ],
            [
             0.1111111111111111,
             "#46039f"
            ],
            [
             0.2222222222222222,
             "#7201a8"
            ],
            [
             0.3333333333333333,
             "#9c179e"
            ],
            [
             0.4444444444444444,
             "#bd3786"
            ],
            [
             0.5555555555555556,
             "#d8576b"
            ],
            [
             0.6666666666666666,
             "#ed7953"
            ],
            [
             0.7777777777777778,
             "#fb9f3a"
            ],
            [
             0.8888888888888888,
             "#fdca26"
            ],
            [
             1,
             "#f0f921"
            ]
           ],
           "sequentialminus": [
            [
             0,
             "#0d0887"
            ],
            [
             0.1111111111111111,
             "#46039f"
            ],
            [
             0.2222222222222222,
             "#7201a8"
            ],
            [
             0.3333333333333333,
             "#9c179e"
            ],
            [
             0.4444444444444444,
             "#bd3786"
            ],
            [
             0.5555555555555556,
             "#d8576b"
            ],
            [
             0.6666666666666666,
             "#ed7953"
            ],
            [
             0.7777777777777778,
             "#fb9f3a"
            ],
            [
             0.8888888888888888,
             "#fdca26"
            ],
            [
             1,
             "#f0f921"
            ]
           ]
          },
          "colorway": [
           "#636efa",
           "#EF553B",
           "#00cc96",
           "#ab63fa",
           "#FFA15A",
           "#19d3f3",
           "#FF6692",
           "#B6E880",
           "#FF97FF",
           "#FECB52"
          ],
          "font": {
           "color": "#2a3f5f"
          },
          "geo": {
           "bgcolor": "white",
           "lakecolor": "white",
           "landcolor": "#E5ECF6",
           "showlakes": true,
           "showland": true,
           "subunitcolor": "white"
          },
          "hoverlabel": {
           "align": "left"
          },
          "hovermode": "closest",
          "mapbox": {
           "style": "light"
          },
          "paper_bgcolor": "white",
          "plot_bgcolor": "#E5ECF6",
          "polar": {
           "angularaxis": {
            "gridcolor": "white",
            "linecolor": "white",
            "ticks": ""
           },
           "bgcolor": "#E5ECF6",
           "radialaxis": {
            "gridcolor": "white",
            "linecolor": "white",
            "ticks": ""
           }
          },
          "scene": {
           "xaxis": {
            "backgroundcolor": "#E5ECF6",
            "gridcolor": "white",
            "gridwidth": 2,
            "linecolor": "white",
            "showbackground": true,
            "ticks": "",
            "zerolinecolor": "white"
           },
           "yaxis": {
            "backgroundcolor": "#E5ECF6",
            "gridcolor": "white",
            "gridwidth": 2,
            "linecolor": "white",
            "showbackground": true,
            "ticks": "",
            "zerolinecolor": "white"
           },
           "zaxis": {
            "backgroundcolor": "#E5ECF6",
            "gridcolor": "white",
            "gridwidth": 2,
            "linecolor": "white",
            "showbackground": true,
            "ticks": "",
            "zerolinecolor": "white"
           }
          },
          "shapedefaults": {
           "line": {
            "color": "#2a3f5f"
           }
          },
          "ternary": {
           "aaxis": {
            "gridcolor": "white",
            "linecolor": "white",
            "ticks": ""
           },
           "baxis": {
            "gridcolor": "white",
            "linecolor": "white",
            "ticks": ""
           },
           "bgcolor": "#E5ECF6",
           "caxis": {
            "gridcolor": "white",
            "linecolor": "white",
            "ticks": ""
           }
          },
          "title": {
           "x": 0.05
          },
          "xaxis": {
           "automargin": true,
           "gridcolor": "white",
           "linecolor": "white",
           "ticks": "",
           "title": {
            "standoff": 15
           },
           "zerolinecolor": "white",
           "zerolinewidth": 2
          },
          "yaxis": {
           "automargin": true,
           "gridcolor": "white",
           "linecolor": "white",
           "ticks": "",
           "title": {
            "standoff": 15
           },
           "zerolinecolor": "white",
           "zerolinewidth": 2
          }
         }
        },
        "xaxis": {
         "anchor": "y",
         "constrain": "domain",
         "domain": [
          0,
          1
         ],
         "scaleanchor": "y",
         "ticktext": [
          "[CLS]",
          "you",
          "too",
          "du@@",
          "der@@",
          "t",
          "<@@",
          "user@@",
          ">",
          "good",
          "morning",
          "y@@",
          "all@@",
          ",",
          "and",
          "have",
          "a",
          "splendid",
          "day",
          "[SEP]"
         ],
         "tickvals": [
          0,
          1,
          2,
          3,
          4,
          5,
          6,
          7,
          8,
          9,
          10,
          11,
          12,
          13,
          14,
          15,
          16,
          17,
          18,
          19
         ],
         "title": {
          "text": "Key"
         }
        },
        "yaxis": {
         "anchor": "x",
         "autorange": "reversed",
         "constrain": "domain",
         "domain": [
          0,
          1
         ],
         "ticktext": [
          "[CLS]"
         ],
         "tickvals": [
          0,
          1,
          2,
          3,
          4
         ],
         "title": {
          "text": "Query"
         }
        }
       }
      }
     },
     "metadata": {},
     "output_type": "display_data"
    }
   ],
   "source": [
    "mean_attention = torch.stack(attention).mean(dim=0).cpu().detach().numpy().mean(axis=0).mean(axis=0)\n",
    "mean_attention_clipped = np.clip(mean_attention,0,0.65)\n",
    "\n",
    "# Plot attention\n",
    "fig_attention = px.imshow(mean_attention_clipped[:,0].reshape(len(mean_attention_clipped),1).T)#,labels=dict(x=\"Key\", y=\"Query\"))\n",
    "\n",
    "# Add xticks and yticks\n",
    "fig_attention.update_xaxes(tickvals=list(range(len(decoded_tokens))), ticktext=decoded_tokens, title_text=\"Key\")\n",
    "fig_attention.update_yaxes(tickvals=list(range(len(decoded_tokens[0]))), ticktext=[decoded_tokens[0]], title_text=\"Query\")\n",
    "\n",
    "fig_attention.show()"
   ]
  },
  {
   "cell_type": "markdown",
   "metadata": {},
   "source": [
    "# PCA CLS"
   ]
  },
  {
   "cell_type": "code",
   "execution_count": 44,
   "metadata": {},
   "outputs": [
    {
     "name": "stderr",
     "output_type": "stream",
     "text": [
      "100%|██████████| 250/250 [00:00<00:00, 2848.63it/s]\n",
      "Map: 100%|██████████| 250/250 [00:00<00:00, 876.47 examples/s]\n"
     ]
    }
   ],
   "source": [
    "df_sample = df.sample(frac=0.0001).reset_index(drop=True)\n",
    "df_normalized = normalizeTweets(df_sample)\n",
    "\n",
    "# checkpoint = \"bert-base-uncased\"\n",
    "# dataset = Dataset.from_pandas(df_normalized)\n",
    "# tokenizer = AutoTokenizer.from_pretrained(checkpoint)\n",
    "# tokenizer.model_max_len=512\n",
    "# def tokenize(batch):\n",
    "#   return tokenizer(batch[\"tweets\"], truncation=True, max_length=512)\n",
    "# data_collator = DataCollatorWithPadding(tokenizer=tokenizer)\n",
    "# device = torch.device(\"cuda\" if torch.cuda.is_available() else \"cpu\")\n",
    "\n",
    "dataset_ = Dataset.from_pandas(df_normalized)\n",
    "\n",
    "# Train Test Valid Split\n",
    "# train_testvalid = dataset_.train_test_split(test_size=0.00001,seed=15)\n",
    "dataset_hf = DatasetDict({\n",
    "    'test': dataset_})\n",
    "\n",
    "dataset_hf;\n",
    "\n",
    "\n",
    "tokenizer = AutoTokenizer.from_pretrained(checkpoint)\n",
    "tokenizer.model_max_len=128\n",
    "def tokenize(batch):\n",
    "    return tokenizer(batch[\"tweets\"], truncation=True, max_length=128)\n",
    "tokenized_dataset = dataset_hf.map(tokenize, batched=True)\n",
    "\n",
    "tokenized_dataset.set_format('torch', columns=[\"input_ids\", \"labels\"] )\n",
    "\n",
    "data_collator = DataCollatorWithPadding(tokenizer=tokenizer)\n",
    "\n",
    "test_dataloader = DataLoader(tokenized_dataset['test'], shuffle =False, batch_size = 16, collate_fn = data_collator)\n"
   ]
  },
  {
   "cell_type": "code",
   "execution_count": 47,
   "metadata": {},
   "outputs": [],
   "source": [
    "class DataPoint:\n",
    "    def __init__(self, cls_token, real_label, predicted_label,word_list):\n",
    "        self.cls_token = cls_token\n",
    "        self.real_label = real_label\n",
    "        self.predicted_label = predicted_label\n",
    "\n",
    "model_classfier_1.eval()\n",
    "\n",
    "\n",
    "# Create a list to store instances of DataPoint\n",
    "data_points = []\n",
    "\n",
    "for batch in test_dataloader:\n",
    "    batch = {k: v.to(device) for k, v in batch.items()}\n",
    "\n",
    "    with torch.no_grad():\n",
    "        outputs, pure_loss = model_classfier_1(**batch)\n",
    "\n",
    "    logits = outputs.logits\n",
    "    predictions = torch.argmax(logits, dim=-1)\n",
    "\n",
    "    real_labels = batch['labels']\n",
    "\n",
    "    # Iterate over each sequence in the batch\n",
    "    for i in range(len(predictions)):\n",
    "        # Extract the CLS token representation\n",
    "        hidden_states = outputs.hidden_states\n",
    "        last_layer_hidden_states = hidden_states[-1]\n",
    "        cls_token = last_layer_hidden_states[i, 0, :]\n",
    "        word_list = tokenizer.convert_ids_to_tokens(batch['input_ids'][i].tolist())\n",
    "\n",
    "        # Create an instance of DataPoint and store the information\n",
    "        data_point = DataPoint(\n",
    "            cls_token=cls_token,\n",
    "            real_label=real_labels[i].item(),\n",
    "            predicted_label=predictions[i].item(),\n",
    "            word_list=word_list,\n",
    "        )\n",
    "\n",
    "        # Append the instance to the list\n",
    "        data_points.append(data_point)\n"
   ]
  },
  {
   "cell_type": "code",
   "execution_count": 51,
   "metadata": {},
   "outputs": [],
   "source": [
    "\n",
    "\n",
    "# Assuming data_points is a list of DataPoint instances\n",
    "cls_tokens = [data_point.cls_token.cpu().numpy() for data_point in data_points]\n",
    "real_labels = [data_point.predicted_label for data_point in data_points]\n",
    "\n",
    "# Mapping dictionary for converting predictions to string labels\n",
    "label_mapping = {\n",
    "    0: 'Negative',\n",
    "    1: 'Positive'\n",
    "}\n",
    "\n",
    "# Convert real labels to string labels for legend\n",
    "legend_labels = [label_mapping[label] for label in set(real_labels)]\n",
    "\n",
    "# Concatenate the CLS tokens into a single numpy array\n",
    "cls_tokens_array = np.vstack(cls_tokens)\n",
    "\n",
    "# Perform PCA to reduce to 2 dimensions\n",
    "pca = PCA(n_components=3)\n",
    "pca_result = pca.fit_transform(cls_tokens_array)\n"
   ]
  },
  {
   "cell_type": "code",
   "execution_count": 52,
   "metadata": {},
   "outputs": [
    {
     "data": {
      "application/vnd.plotly.v1+json": {
       "config": {
        "plotlyServerURL": "https://plot.ly"
       },
       "data": [
        {
         "hovertemplate": "Predicted Sentiment=Negative<br>PC1=%{x}<br>PC2=%{y}<br>PC3=%{z}<extra></extra>",
         "legendgroup": "Negative",
         "marker": {
          "color": "#636efa",
          "symbol": "circle"
         },
         "mode": "markers",
         "name": "Negative",
         "scene": "scene",
         "showlegend": true,
         "type": "scatter3d",
         "x": [
          5.662805080413818,
          8.45875358581543,
          6.6854634284973145,
          1.611015796661377,
          6.806764125823975,
          7.069869041442871,
          6.946552276611328,
          1.4744101762771606,
          1.0173205137252808,
          9.274407386779785,
          2.698622941970825,
          9.199809074401855,
          1.8755582571029663,
          0.4932621717453003,
          2.7902376651763916,
          2.206699848175049,
          0.429950475692749,
          6.074850082397461,
          3.5187761783599854,
          7.908771514892578,
          0.7511492967605591,
          5.919701099395752,
          2.376634120941162,
          7.267889022827148,
          8.893058776855469,
          -0.1928761750459671,
          1.8570284843444824,
          4.764297008514404,
          9.29068374633789,
          3.7142531871795654,
          2.6629748344421387,
          1.360903263092041,
          8.965909957885742,
          3.6069209575653076,
          9.246451377868652,
          9.21281623840332,
          9.25754451751709,
          2.424154281616211,
          7.354032039642334,
          3.1659371852874756,
          9.244795799255371,
          9.234790802001953,
          8.494054794311523,
          1.7376601696014404,
          4.347583293914795,
          8.398003578186035,
          9.284221649169922,
          7.485514163970947,
          9.246122360229492,
          9.263245582580566,
          9.10013198852539,
          2.98710298538208,
          9.186443328857422,
          9.279396057128906,
          0.03810976818203926,
          2.2295126914978027,
          6.838984966278076,
          3.1313445568084717,
          9.249258041381836,
          9.243539810180664,
          4.4367756843566895,
          7.361786842346191,
          4.956053256988525,
          3.942758321762085,
          5.246565341949463,
          9.174028396606445,
          8.629595756530762,
          9.274553298950195,
          -0.2602913975715637,
          4.003708362579346,
          6.039914608001709,
          2.8233730792999268,
          3.48685884475708,
          9.259321212768555,
          6.597138404846191,
          9.290875434875488,
          9.265885353088379,
          7.4287567138671875,
          3.375645160675049,
          9.283292770385742,
          6.968652248382568,
          3.097811460494995,
          3.51345157623291,
          9.157840728759766,
          9.143555641174316,
          2.2743825912475586,
          8.595565795898438,
          -0.15090318024158478,
          3.0052378177642822,
          2.798383951187134,
          6.730560302734375,
          4.241077423095703,
          9.260428428649902,
          9.244166374206543,
          7.557304382324219,
          8.556379318237305,
          7.483168601989746,
          1.3063290119171143,
          9.119699478149414,
          0.5645773410797119,
          5.797857284545898,
          9.11243724822998,
          2.5956952571868896,
          3.1290996074676514,
          9.29826545715332,
          1.5583009719848633,
          9.256072998046875,
          5.515851974487305,
          4.373894214630127,
          4.653925895690918,
          9.24482536315918,
          7.389293670654297,
          9.246102333068848,
          -0.3632820248603821,
          4.066047191619873,
          6.159055709838867,
          9.259255409240723
         ],
         "y": [
          -1.5657413005828857,
          1.291894793510437,
          -0.8964083194732666,
          -3.205165147781372,
          -0.7992193102836609,
          -0.5426450371742249,
          -0.7237712740898132,
          -3.25844144821167,
          -3.2487428188323975,
          3.757761001586914,
          -2.9951210021972656,
          3.207667827606201,
          -3.349703073501587,
          -3.182584524154663,
          -2.9401960372924805,
          -2.645433187484741,
          -3.4874298572540283,
          -1.2792493104934692,
          -1.827832818031311,
          0.43852710723876953,
          -3.3546276092529297,
          -1.4709444046020508,
          -3.1344878673553467,
          0.22702452540397644,
          2.1970787048339844,
          -3.4273557662963867,
          -3.0608463287353516,
          -2.1564979553222656,
          3.7641842365264893,
          -2.7552640438079834,
          -2.8707823753356934,
          -2.8251285552978516,
          2.3795149326324463,
          -2.705408811569214,
          3.4034297466278076,
          3.1576013565063477,
          3.563922882080078,
          -2.77101731300354,
          -0.2038019597530365,
          -2.96560001373291,
          3.5213441848754883,
          3.4697303771972656,
          1.3393781185150146,
          -3.2433366775512695,
          -2.389004945755005,
          1.3242428302764893,
          3.689521551132202,
          0.035671886056661606,
          3.441488742828369,
          3.6628971099853516,
          2.6581878662109375,
          -2.971297025680542,
          3.2139196395874023,
          3.6954963207244873,
          -3.3360636234283447,
          -3.1462082862854004,
          -0.7485544085502625,
          -2.76645565032959,
          3.556231737136841,
          3.504901885986328,
          -2.3168563842773438,
          -0.2151552438735962,
          -1.9502809047698975,
          -2.0550453662872314,
          -1.8449428081512451,
          3.0198850631713867,
          1.9199806451797485,
          3.709623336791992,
          -3.3659708499908447,
          -2.6077256202697754,
          -1.0948549509048462,
          -3.060434341430664,
          -1.8428558111190796,
          3.4402074813842773,
          -0.9761866927146912,
          3.787581443786621,
          3.479576587677002,
          -0.09132876247167587,
          -2.822538137435913,
          3.6978542804718018,
          -0.5977428555488586,
          -2.838604211807251,
          -2.6526293754577637,
          2.9143011569976807,
          2.8849387168884277,
          -3.106624126434326,
          1.7019922733306885,
          -2.9763126373291016,
          -1.9880752563476562,
          -2.850165605545044,
          -0.7534386515617371,
          -2.4854869842529297,
          3.8717541694641113,
          3.3391900062561035,
          0.12998981773853302,
          1.7666780948638916,
          0.01675828918814659,
          -3.405003309249878,
          2.7536237239837646,
          -3.4664011001586914,
          -1.5655946731567383,
          2.799975633621216,
          -3.0449838638305664,
          -2.8247344493865967,
          3.881289482116699,
          -3.303741216659546,
          3.4600305557250977,
          -1.639178991317749,
          -2.371584415435791,
          -2.280524253845215,
          3.455824613571167,
          -0.08923985064029694,
          3.297441005706787,
          -3.320380449295044,
          -2.243860960006714,
          -1.2366565465927124,
          3.503465175628662
         ],
         "z": [
          1.2914437055587769,
          0.16289059817790985,
          1.0686089992523193,
          0.8655529022216797,
          1.0336530208587646,
          1.0205475091934204,
          1.0271265506744385,
          0.865064263343811,
          0.6701004505157471,
          -1.2969226837158203,
          1.3881274461746216,
          -1.1380046606063843,
          0.687593936920166,
          0.6708630323410034,
          1.219091773033142,
          1.0841727256774902,
          0.3048299252986908,
          1.2856073379516602,
          1.1831254959106445,
          0.4655058681964874,
          0.7027489542961121,
          1.1979297399520874,
          1.0859030485153198,
          1.017778754234314,
          -0.903491199016571,
          0.03028015047311783,
          1.0416005849838257,
          1.4248379468917847,
          -1.2949665784835815,
          1.4473990201950073,
          1.2822328805923462,
          0.9718919396400452,
          -0.9487423896789551,
          0.991935133934021,
          -1.2013037204742432,
          -1.1341758966445923,
          -1.2465885877609253,
          1.3447294235229492,
          0.8164367079734802,
          1.2610634565353394,
          -1.3127813339233398,
          -1.198760747909546,
          0.1373143047094345,
          0.9698171019554138,
          1.566773533821106,
          0.2692679762840271,
          -1.2471927404403687,
          0.5923425555229187,
          -1.211594581604004,
          -1.2834389209747314,
          -0.9862684607505798,
          1.3888661861419678,
          -1.2367876768112183,
          -1.2847280502319336,
          0.09242629259824753,
          1.1411556005477905,
          0.9809595942497253,
          1.4662058353424072,
          -1.250294804573059,
          -1.2734664678573608,
          1.472069263458252,
          0.9162290096282959,
          1.7286192178726196,
          0.9566764235496521,
          1.239187240600586,
          -1.0846000909805298,
          -0.25485873222351074,
          -1.2730036973953247,
          -0.2517213821411133,
          1.5192209482192993,
          1.2325687408447266,
          1.3657219409942627,
          1.155694603919983,
          -1.188317894935608,
          1.3434679508209229,
          -1.2726397514343262,
          -1.1360461711883545,
          1.0790131092071533,
          1.43429434299469,
          -1.2437922954559326,
          0.867266058921814,
          1.3556666374206543,
          1.3176079988479614,
          -1.061881422996521,
          -1.1112931966781616,
          0.9282670021057129,
          -0.11207062005996704,
          0.35052773356437683,
          0.9455661773681641,
          1.4174375534057617,
          1.1552131175994873,
          1.4062914848327637,
          -1.3538094758987427,
          -1.1424102783203125,
          0.6958301663398743,
          -0.024349270388484,
          0.9812171459197998,
          0.6105160713195801,
          -1.071871280670166,
          0.38919079303741455,
          1.3944621086120605,
          -1.0683131217956543,
          1.1565191745758057,
          1.4459646940231323,
          -1.2979620695114136,
          0.9601481556892395,
          -1.2354779243469238,
          1.2279713153839111,
          1.3230482339859009,
          1.524273157119751,
          -1.2303574085235596,
          0.8022586703300476,
          -1.1469900608062744,
          -0.05965539067983627,
          1.6470885276794434,
          1.2190189361572266,
          -1.2070116996765137
         ]
        },
        {
         "hovertemplate": "Predicted Sentiment=Positive<br>PC1=%{x}<br>PC2=%{y}<br>PC3=%{z}<extra></extra>",
         "legendgroup": "Positive",
         "marker": {
          "color": "#EF553B",
          "symbol": "circle"
         },
         "mode": "markers",
         "name": "Positive",
         "scene": "scene",
         "showlegend": true,
         "type": "scatter3d",
         "x": [
          -7.147829532623291,
          -3.0401649475097656,
          -4.401286602020264,
          -6.518898010253906,
          -6.967723369598389,
          -2.423379898071289,
          -1.3991429805755615,
          -4.543187141418457,
          -3.7520570755004883,
          -4.801171779632568,
          -5.7522053718566895,
          -4.820371150970459,
          -1.9236429929733276,
          -6.96347188949585,
          -6.625823497772217,
          -6.681922912597656,
          -5.008213043212891,
          -5.3411993980407715,
          -0.7925299406051636,
          -3.0270516872406006,
          -4.954301834106445,
          -3.2664265632629395,
          -7.026618480682373,
          -6.960669040679932,
          -4.498678684234619,
          -2.708564281463623,
          -7.001420021057129,
          -3.9081037044525146,
          -5.886610984802246,
          -5.051804065704346,
          -7.22317361831665,
          -5.884037971496582,
          -5.951207160949707,
          -3.63189959526062,
          -5.9800944328308105,
          -4.787518501281738,
          -5.301206111907959,
          -5.568281173706055,
          -4.5922627449035645,
          -5.440556526184082,
          -4.696915149688721,
          -5.416702747344971,
          -2.670435905456543,
          -5.40119743347168,
          -7.260879993438721,
          -3.801725149154663,
          -1.7238825559616089,
          -7.159196853637695,
          -2.912527084350586,
          -4.066363334655762,
          -4.037111282348633,
          -7.119754314422607,
          -6.138115882873535,
          -7.061275959014893,
          -2.2247583866119385,
          -2.894981861114502,
          -3.054440975189209,
          -6.959436893463135,
          -5.726874828338623,
          -5.63100528717041,
          -6.524461269378662,
          -5.61116886138916,
          -6.834377288818359,
          -7.27001428604126,
          -7.394603729248047,
          -0.6916672587394714,
          -7.108452320098877,
          -2.4692153930664062,
          -6.729841709136963,
          -2.3730502128601074,
          -6.920198917388916,
          -6.221405506134033,
          -6.863376617431641,
          -3.793149709701538,
          -5.78642463684082,
          -6.366840839385986,
          -2.304889678955078,
          -1.1685346364974976,
          -5.980005264282227,
          -7.318941593170166,
          -4.721534729003906,
          -5.338450908660889,
          -5.332735538482666,
          -2.6115148067474365,
          -6.8771843910217285,
          -4.292479038238525,
          -6.5575690269470215,
          -6.484407901763916,
          -6.556806564331055,
          -7.062717914581299,
          -6.023495674133301,
          -5.467806339263916,
          -4.968675136566162,
          -3.3620288372039795,
          -6.720922470092773,
          -2.5744645595550537,
          -6.759543418884277,
          -7.353623390197754,
          -2.235865592956543,
          -5.471914291381836,
          -2.7374625205993652,
          -2.203967571258545,
          -4.54721212387085,
          -7.215660095214844,
          -1.1745837926864624,
          -3.36434268951416,
          -6.707390308380127,
          -3.3718299865722656,
          -6.950685024261475,
          -2.5609397888183594,
          -5.642814636230469,
          -5.966683387756348,
          -4.370095729827881,
          -5.154079437255859,
          -6.75480318069458,
          -4.499855995178223,
          -5.09853458404541,
          -7.047637462615967,
          -6.209214687347412,
          -5.2798919677734375,
          -3.3732411861419678,
          -4.591902256011963,
          -5.756927490234375,
          -5.7500481605529785,
          -7.026094436645508,
          -5.3524580001831055,
          -4.099720478057861,
          -6.409849643707275,
          -6.916885852813721,
          -3.7070679664611816,
          -4.192169666290283,
          -1.389405369758606,
          -7.060009956359863
         ],
         "y": [
          5.201684951782227,
          -2.2494099140167236,
          -1.6387439966201782,
          2.6717638969421387,
          5.305179595947266,
          -2.8981690406799316,
          -2.813736915588379,
          -1.4790172576904297,
          -2.081326961517334,
          -1.32368004322052,
          0.12355629354715347,
          -0.7547004818916321,
          -0.8811589479446411,
          5.721438884735107,
          1.299604058265686,
          3.0066795349121094,
          -0.9380422830581665,
          -0.8143508434295654,
          -3.3600168228149414,
          -2.6654880046844482,
          0.9958449006080627,
          -2.413334608078003,
          2.212923288345337,
          4.634119510650635,
          -1.5057226419448853,
          -2.7924158573150635,
          1.8163172006607056,
          -2.1134307384490967,
          0.5255674719810486,
          -1.0957731008529663,
          2.52563214302063,
          0.0005301865166984499,
          0.5671709775924683,
          -2.087465763092041,
          4.509033679962158,
          -1.3212592601776123,
          -0.6870430111885071,
          0.2918093502521515,
          -1.5390912294387817,
          -0.5770591497421265,
          -1.2751355171203613,
          -0.35374411940574646,
          -2.6933860778808594,
          -0.6590920686721802,
          3.730682849884033,
          -1.9155329465866089,
          -2.950469493865967,
          2.3449814319610596,
          -2.649292230606079,
          -1.8242413997650146,
          -1.4586460590362549,
          5.589297771453857,
          0.8943395614624023,
          3.354379415512085,
          -1.673526406288147,
          -2.6579782962799072,
          -1.3275325298309326,
          6.017584800720215,
          0.27579253911972046,
          0.5298995971679688,
          1.4581414461135864,
          0.19799214601516724,
          2.564354658126831,
          4.789448261260986,
          3.89835786819458,
          -2.9907517433166504,
          4.5913472175598145,
          -2.912517786026001,
          1.8447577953338623,
          -2.716064214706421,
          2.3786795139312744,
          0.7824711799621582,
          2.362919330596924,
          -1.899469256401062,
          -0.05258121341466904,
          6.752584457397461,
          -2.7960126399993896,
          -3.261842966079712,
          0.6617688536643982,
          3.268458127975464,
          -1.0817228555679321,
          -0.023047368973493576,
          -0.3705843389034271,
          -2.813678503036499,
          5.947275638580322,
          -1.5431486368179321,
          1.4292718172073364,
          1.4712560176849365,
          1.2576329708099365,
          4.786470413208008,
          0.20879031717777252,
          2.287867546081543,
          0.1976938247680664,
          -2.382051467895508,
          1.8301292657852173,
          -2.823232412338257,
          4.695400238037109,
          4.70379114151001,
          -3.0046024322509766,
          -0.17509160935878754,
          -2.236300230026245,
          -2.7630748748779297,
          -1.559557318687439,
          2.6384165287017822,
          -3.3148140907287598,
          -1.665764331817627,
          6.67318058013916,
          -1.8352993726730347,
          5.193278789520264,
          -2.626559019088745,
          0.5626401901245117,
          0.09739447385072708,
          -1.6530488729476929,
          -0.7834776639938354,
          3.5749051570892334,
          -1.5179712772369385,
          -0.8450337648391724,
          2.318434715270996,
          1.5404313802719116,
          -0.5221284031867981,
          -2.149977684020996,
          -1.1681638956069946,
          -0.33232271671295166,
          0.038432732224464417,
          2.518738269805908,
          -0.7114330530166626,
          -1.8180922269821167,
          1.2610628604888916,
          3.4686877727508545,
          -2.074144124984741,
          -1.2236841917037964,
          -2.925723075866699,
          3.8456430435180664
         ],
         "z": [
          1.4948451519012451,
          -1.2134820222854614,
          -1.5125982761383057,
          0.9053876399993896,
          1.2043704986572266,
          -1.4074804782867432,
          -0.34459584951400757,
          -1.2983349561691284,
          -1.3639943599700928,
          -1.313865303993225,
          -0.5050492286682129,
          -0.7602791786193848,
          0.33878448605537415,
          2.0220696926116943,
          -0.18744270503520966,
          0.9949718713760376,
          -0.8242900371551514,
          -1.1319541931152344,
          -0.3258361518383026,
          -1.3905705213546753,
          0.5876588225364685,
          -1.4215182065963745,
          0.018787074834108353,
          1.5296388864517212,
          -1.2936426401138306,
          -1.022404432296753,
          -0.08460521697998047,
          -1.552420973777771,
          -0.6003710031509399,
          -1.3070107698440552,
          0.06136433780193329,
          -0.6812375783920288,
          -0.2638886868953705,
          -1.246607780456543,
          1.7064059972763062,
          -1.4197109937667847,
          -0.9350534677505493,
          -0.3113447427749634,
          -1.3802638053894043,
          -1.411360502243042,
          -0.8365796208381653,
          -0.6737344264984131,
          -0.812303900718689,
          -1.1476598978042603,
          0.785727322101593,
          -1.1909294128417969,
          -0.5018907785415649,
          0.05103524774312973,
          -1.020043969154358,
          -1.3675564527511597,
          -1.2634570598602295,
          1.7645764350891113,
          -0.30003395676612854,
          1.1667593717575073,
          -0.18336009979248047,
          -1.1427494287490845,
          -0.12383632361888885,
          2.117178440093994,
          -0.9235337376594543,
          -0.040132470428943634,
          -0.058451589196920395,
          -0.41669678688049316,
          0.4693090617656708,
          1.400214672088623,
          1.012411117553711,
          -0.03214459866285324,
          1.0519706010818481,
          -1.0620893239974976,
          0.0574035719037056,
          -0.8175092339515686,
          0.2263166904449463,
          -0.22312480211257935,
          0.5680720806121826,
          -1.0999804735183716,
          -0.8487666845321655,
          2.5318586826324463,
          -1.0341246128082275,
          -0.44486257433891296,
          -0.17376308143138885,
          0.6425027251243591,
          -0.9763416647911072,
          -0.9852237105369568,
          -0.6234120726585388,
          -0.8876705765724182,
          2.0614700317382812,
          -1.0484614372253418,
          -0.2547333240509033,
          -0.058240313082933426,
          -0.34565070271492004,
          1.1336407661437988,
          -0.8849570155143738,
          1.0906835794448853,
          -0.33736875653266907,
          -1.3471158742904663,
          0.11234243214130402,
          -1.0765560865402222,
          1.5210152864456177,
          1.154557228088379,
          -1.0120680332183838,
          -0.6961827278137207,
          -0.9515201449394226,
          -0.9066457748413086,
          -1.169848084449768,
          0.012246943078935146,
          -0.6708574295043945,
          -0.9696333408355713,
          2.292489528656006,
          -0.9551501870155334,
          1.9631590843200684,
          -0.8404204249382019,
          -0.19924958050251007,
          -0.8985155820846558,
          -1.2759405374526978,
          -1.2613916397094727,
          1.386549472808838,
          -1.490850567817688,
          -0.9646352529525757,
          0.5140427947044373,
          0.06807883083820343,
          -0.9481509327888489,
          -0.9293114542961121,
          -0.7319573760032654,
          -0.9508491158485413,
          -0.8697848320007324,
          0.4928516745567322,
          -1.1141148805618286,
          -1.1327604055404663,
          0.12305740267038345,
          1.0302077531814575,
          -0.8789017200469971,
          -1.1734399795532227,
          -0.5830223560333252,
          1.1834763288497925
         ]
        }
       ],
       "layout": {
        "legend": {
         "title": {
          "text": "Predicted Sentiment"
         },
         "tracegroupgap": 0
        },
        "scene": {
         "domain": {
          "x": [
           0,
           1
          ],
          "y": [
           0,
           1
          ]
         },
         "xaxis": {
          "title": {
           "text": "PC1"
          }
         },
         "yaxis": {
          "title": {
           "text": "PC2"
          }
         },
         "zaxis": {
          "title": {
           "text": "PC3"
          }
         }
        },
        "template": {
         "data": {
          "bar": [
           {
            "error_x": {
             "color": "#2a3f5f"
            },
            "error_y": {
             "color": "#2a3f5f"
            },
            "marker": {
             "line": {
              "color": "#E5ECF6",
              "width": 0.5
             },
             "pattern": {
              "fillmode": "overlay",
              "size": 10,
              "solidity": 0.2
             }
            },
            "type": "bar"
           }
          ],
          "barpolar": [
           {
            "marker": {
             "line": {
              "color": "#E5ECF6",
              "width": 0.5
             },
             "pattern": {
              "fillmode": "overlay",
              "size": 10,
              "solidity": 0.2
             }
            },
            "type": "barpolar"
           }
          ],
          "carpet": [
           {
            "aaxis": {
             "endlinecolor": "#2a3f5f",
             "gridcolor": "white",
             "linecolor": "white",
             "minorgridcolor": "white",
             "startlinecolor": "#2a3f5f"
            },
            "baxis": {
             "endlinecolor": "#2a3f5f",
             "gridcolor": "white",
             "linecolor": "white",
             "minorgridcolor": "white",
             "startlinecolor": "#2a3f5f"
            },
            "type": "carpet"
           }
          ],
          "choropleth": [
           {
            "colorbar": {
             "outlinewidth": 0,
             "ticks": ""
            },
            "type": "choropleth"
           }
          ],
          "contour": [
           {
            "colorbar": {
             "outlinewidth": 0,
             "ticks": ""
            },
            "colorscale": [
             [
              0,
              "#0d0887"
             ],
             [
              0.1111111111111111,
              "#46039f"
             ],
             [
              0.2222222222222222,
              "#7201a8"
             ],
             [
              0.3333333333333333,
              "#9c179e"
             ],
             [
              0.4444444444444444,
              "#bd3786"
             ],
             [
              0.5555555555555556,
              "#d8576b"
             ],
             [
              0.6666666666666666,
              "#ed7953"
             ],
             [
              0.7777777777777778,
              "#fb9f3a"
             ],
             [
              0.8888888888888888,
              "#fdca26"
             ],
             [
              1,
              "#f0f921"
             ]
            ],
            "type": "contour"
           }
          ],
          "contourcarpet": [
           {
            "colorbar": {
             "outlinewidth": 0,
             "ticks": ""
            },
            "type": "contourcarpet"
           }
          ],
          "heatmap": [
           {
            "colorbar": {
             "outlinewidth": 0,
             "ticks": ""
            },
            "colorscale": [
             [
              0,
              "#0d0887"
             ],
             [
              0.1111111111111111,
              "#46039f"
             ],
             [
              0.2222222222222222,
              "#7201a8"
             ],
             [
              0.3333333333333333,
              "#9c179e"
             ],
             [
              0.4444444444444444,
              "#bd3786"
             ],
             [
              0.5555555555555556,
              "#d8576b"
             ],
             [
              0.6666666666666666,
              "#ed7953"
             ],
             [
              0.7777777777777778,
              "#fb9f3a"
             ],
             [
              0.8888888888888888,
              "#fdca26"
             ],
             [
              1,
              "#f0f921"
             ]
            ],
            "type": "heatmap"
           }
          ],
          "heatmapgl": [
           {
            "colorbar": {
             "outlinewidth": 0,
             "ticks": ""
            },
            "colorscale": [
             [
              0,
              "#0d0887"
             ],
             [
              0.1111111111111111,
              "#46039f"
             ],
             [
              0.2222222222222222,
              "#7201a8"
             ],
             [
              0.3333333333333333,
              "#9c179e"
             ],
             [
              0.4444444444444444,
              "#bd3786"
             ],
             [
              0.5555555555555556,
              "#d8576b"
             ],
             [
              0.6666666666666666,
              "#ed7953"
             ],
             [
              0.7777777777777778,
              "#fb9f3a"
             ],
             [
              0.8888888888888888,
              "#fdca26"
             ],
             [
              1,
              "#f0f921"
             ]
            ],
            "type": "heatmapgl"
           }
          ],
          "histogram": [
           {
            "marker": {
             "pattern": {
              "fillmode": "overlay",
              "size": 10,
              "solidity": 0.2
             }
            },
            "type": "histogram"
           }
          ],
          "histogram2d": [
           {
            "colorbar": {
             "outlinewidth": 0,
             "ticks": ""
            },
            "colorscale": [
             [
              0,
              "#0d0887"
             ],
             [
              0.1111111111111111,
              "#46039f"
             ],
             [
              0.2222222222222222,
              "#7201a8"
             ],
             [
              0.3333333333333333,
              "#9c179e"
             ],
             [
              0.4444444444444444,
              "#bd3786"
             ],
             [
              0.5555555555555556,
              "#d8576b"
             ],
             [
              0.6666666666666666,
              "#ed7953"
             ],
             [
              0.7777777777777778,
              "#fb9f3a"
             ],
             [
              0.8888888888888888,
              "#fdca26"
             ],
             [
              1,
              "#f0f921"
             ]
            ],
            "type": "histogram2d"
           }
          ],
          "histogram2dcontour": [
           {
            "colorbar": {
             "outlinewidth": 0,
             "ticks": ""
            },
            "colorscale": [
             [
              0,
              "#0d0887"
             ],
             [
              0.1111111111111111,
              "#46039f"
             ],
             [
              0.2222222222222222,
              "#7201a8"
             ],
             [
              0.3333333333333333,
              "#9c179e"
             ],
             [
              0.4444444444444444,
              "#bd3786"
             ],
             [
              0.5555555555555556,
              "#d8576b"
             ],
             [
              0.6666666666666666,
              "#ed7953"
             ],
             [
              0.7777777777777778,
              "#fb9f3a"
             ],
             [
              0.8888888888888888,
              "#fdca26"
             ],
             [
              1,
              "#f0f921"
             ]
            ],
            "type": "histogram2dcontour"
           }
          ],
          "mesh3d": [
           {
            "colorbar": {
             "outlinewidth": 0,
             "ticks": ""
            },
            "type": "mesh3d"
           }
          ],
          "parcoords": [
           {
            "line": {
             "colorbar": {
              "outlinewidth": 0,
              "ticks": ""
             }
            },
            "type": "parcoords"
           }
          ],
          "pie": [
           {
            "automargin": true,
            "type": "pie"
           }
          ],
          "scatter": [
           {
            "fillpattern": {
             "fillmode": "overlay",
             "size": 10,
             "solidity": 0.2
            },
            "type": "scatter"
           }
          ],
          "scatter3d": [
           {
            "line": {
             "colorbar": {
              "outlinewidth": 0,
              "ticks": ""
             }
            },
            "marker": {
             "colorbar": {
              "outlinewidth": 0,
              "ticks": ""
             }
            },
            "type": "scatter3d"
           }
          ],
          "scattercarpet": [
           {
            "marker": {
             "colorbar": {
              "outlinewidth": 0,
              "ticks": ""
             }
            },
            "type": "scattercarpet"
           }
          ],
          "scattergeo": [
           {
            "marker": {
             "colorbar": {
              "outlinewidth": 0,
              "ticks": ""
             }
            },
            "type": "scattergeo"
           }
          ],
          "scattergl": [
           {
            "marker": {
             "colorbar": {
              "outlinewidth": 0,
              "ticks": ""
             }
            },
            "type": "scattergl"
           }
          ],
          "scattermapbox": [
           {
            "marker": {
             "colorbar": {
              "outlinewidth": 0,
              "ticks": ""
             }
            },
            "type": "scattermapbox"
           }
          ],
          "scatterpolar": [
           {
            "marker": {
             "colorbar": {
              "outlinewidth": 0,
              "ticks": ""
             }
            },
            "type": "scatterpolar"
           }
          ],
          "scatterpolargl": [
           {
            "marker": {
             "colorbar": {
              "outlinewidth": 0,
              "ticks": ""
             }
            },
            "type": "scatterpolargl"
           }
          ],
          "scatterternary": [
           {
            "marker": {
             "colorbar": {
              "outlinewidth": 0,
              "ticks": ""
             }
            },
            "type": "scatterternary"
           }
          ],
          "surface": [
           {
            "colorbar": {
             "outlinewidth": 0,
             "ticks": ""
            },
            "colorscale": [
             [
              0,
              "#0d0887"
             ],
             [
              0.1111111111111111,
              "#46039f"
             ],
             [
              0.2222222222222222,
              "#7201a8"
             ],
             [
              0.3333333333333333,
              "#9c179e"
             ],
             [
              0.4444444444444444,
              "#bd3786"
             ],
             [
              0.5555555555555556,
              "#d8576b"
             ],
             [
              0.6666666666666666,
              "#ed7953"
             ],
             [
              0.7777777777777778,
              "#fb9f3a"
             ],
             [
              0.8888888888888888,
              "#fdca26"
             ],
             [
              1,
              "#f0f921"
             ]
            ],
            "type": "surface"
           }
          ],
          "table": [
           {
            "cells": {
             "fill": {
              "color": "#EBF0F8"
             },
             "line": {
              "color": "white"
             }
            },
            "header": {
             "fill": {
              "color": "#C8D4E3"
             },
             "line": {
              "color": "white"
             }
            },
            "type": "table"
           }
          ]
         },
         "layout": {
          "annotationdefaults": {
           "arrowcolor": "#2a3f5f",
           "arrowhead": 0,
           "arrowwidth": 1
          },
          "autotypenumbers": "strict",
          "coloraxis": {
           "colorbar": {
            "outlinewidth": 0,
            "ticks": ""
           }
          },
          "colorscale": {
           "diverging": [
            [
             0,
             "#8e0152"
            ],
            [
             0.1,
             "#c51b7d"
            ],
            [
             0.2,
             "#de77ae"
            ],
            [
             0.3,
             "#f1b6da"
            ],
            [
             0.4,
             "#fde0ef"
            ],
            [
             0.5,
             "#f7f7f7"
            ],
            [
             0.6,
             "#e6f5d0"
            ],
            [
             0.7,
             "#b8e186"
            ],
            [
             0.8,
             "#7fbc41"
            ],
            [
             0.9,
             "#4d9221"
            ],
            [
             1,
             "#276419"
            ]
           ],
           "sequential": [
            [
             0,
             "#0d0887"
            ],
            [
             0.1111111111111111,
             "#46039f"
            ],
            [
             0.2222222222222222,
             "#7201a8"
            ],
            [
             0.3333333333333333,
             "#9c179e"
            ],
            [
             0.4444444444444444,
             "#bd3786"
            ],
            [
             0.5555555555555556,
             "#d8576b"
            ],
            [
             0.6666666666666666,
             "#ed7953"
            ],
            [
             0.7777777777777778,
             "#fb9f3a"
            ],
            [
             0.8888888888888888,
             "#fdca26"
            ],
            [
             1,
             "#f0f921"
            ]
           ],
           "sequentialminus": [
            [
             0,
             "#0d0887"
            ],
            [
             0.1111111111111111,
             "#46039f"
            ],
            [
             0.2222222222222222,
             "#7201a8"
            ],
            [
             0.3333333333333333,
             "#9c179e"
            ],
            [
             0.4444444444444444,
             "#bd3786"
            ],
            [
             0.5555555555555556,
             "#d8576b"
            ],
            [
             0.6666666666666666,
             "#ed7953"
            ],
            [
             0.7777777777777778,
             "#fb9f3a"
            ],
            [
             0.8888888888888888,
             "#fdca26"
            ],
            [
             1,
             "#f0f921"
            ]
           ]
          },
          "colorway": [
           "#636efa",
           "#EF553B",
           "#00cc96",
           "#ab63fa",
           "#FFA15A",
           "#19d3f3",
           "#FF6692",
           "#B6E880",
           "#FF97FF",
           "#FECB52"
          ],
          "font": {
           "color": "#2a3f5f"
          },
          "geo": {
           "bgcolor": "white",
           "lakecolor": "white",
           "landcolor": "#E5ECF6",
           "showlakes": true,
           "showland": true,
           "subunitcolor": "white"
          },
          "hoverlabel": {
           "align": "left"
          },
          "hovermode": "closest",
          "mapbox": {
           "style": "light"
          },
          "paper_bgcolor": "white",
          "plot_bgcolor": "#E5ECF6",
          "polar": {
           "angularaxis": {
            "gridcolor": "white",
            "linecolor": "white",
            "ticks": ""
           },
           "bgcolor": "#E5ECF6",
           "radialaxis": {
            "gridcolor": "white",
            "linecolor": "white",
            "ticks": ""
           }
          },
          "scene": {
           "xaxis": {
            "backgroundcolor": "#E5ECF6",
            "gridcolor": "white",
            "gridwidth": 2,
            "linecolor": "white",
            "showbackground": true,
            "ticks": "",
            "zerolinecolor": "white"
           },
           "yaxis": {
            "backgroundcolor": "#E5ECF6",
            "gridcolor": "white",
            "gridwidth": 2,
            "linecolor": "white",
            "showbackground": true,
            "ticks": "",
            "zerolinecolor": "white"
           },
           "zaxis": {
            "backgroundcolor": "#E5ECF6",
            "gridcolor": "white",
            "gridwidth": 2,
            "linecolor": "white",
            "showbackground": true,
            "ticks": "",
            "zerolinecolor": "white"
           }
          },
          "shapedefaults": {
           "line": {
            "color": "#2a3f5f"
           }
          },
          "ternary": {
           "aaxis": {
            "gridcolor": "white",
            "linecolor": "white",
            "ticks": ""
           },
           "baxis": {
            "gridcolor": "white",
            "linecolor": "white",
            "ticks": ""
           },
           "bgcolor": "#E5ECF6",
           "caxis": {
            "gridcolor": "white",
            "linecolor": "white",
            "ticks": ""
           }
          },
          "title": {
           "x": 0.05
          },
          "xaxis": {
           "automargin": true,
           "gridcolor": "white",
           "linecolor": "white",
           "ticks": "",
           "title": {
            "standoff": 15
           },
           "zerolinecolor": "white",
           "zerolinewidth": 2
          },
          "yaxis": {
           "automargin": true,
           "gridcolor": "white",
           "linecolor": "white",
           "ticks": "",
           "title": {
            "standoff": 15
           },
           "zerolinecolor": "white",
           "zerolinewidth": 2
          }
         }
        },
        "title": {
         "text": "3D PCA of Classification Token of Testing Tweets"
        }
       }
      }
     },
     "metadata": {},
     "output_type": "display_data"
    }
   ],
   "source": [
    "# Create a DataFrame for the 3D scatter plot\n",
    "df = pd.DataFrame({\n",
    "    'PC1': pca_result[:, 0],\n",
    "    'PC2': pca_result[:, 1],\n",
    "    'PC3': pca_result[:, 2],\n",
    "    'Real Label': [label_mapping[label] for label in real_labels]\n",
    "})\n",
    "\n",
    "# Create 3D scatter plot using Plotly\n",
    "fig = px.scatter_3d(\n",
    "    df,\n",
    "    x='PC1',\n",
    "    y='PC2',\n",
    "    z='PC3',\n",
    "    color='Real Label',\n",
    "    labels={'Real Label': 'Predicted Sentiment'},\n",
    "    title='3D PCA of Classification Token of Testing Tweets'\n",
    ")\n",
    "\n",
    "# Show the plot\n",
    "fig.show()\n"
   ]
  },
  {
   "cell_type": "code",
   "execution_count": null,
   "metadata": {},
   "outputs": [],
   "source": []
  }
 ],
 "metadata": {
  "kernelspec": {
   "display_name": "base",
   "language": "python",
   "name": "python3"
  },
  "language_info": {
   "codemirror_mode": {
    "name": "ipython",
    "version": 3
   },
   "file_extension": ".py",
   "mimetype": "text/x-python",
   "name": "python",
   "nbconvert_exporter": "python",
   "pygments_lexer": "ipython3",
   "version": "3.9.18"
  }
 },
 "nbformat": 4,
 "nbformat_minor": 2
}
